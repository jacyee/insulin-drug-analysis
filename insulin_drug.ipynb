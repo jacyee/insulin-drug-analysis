{
 "cells": [
  {
   "cell_type": "markdown",
   "metadata": {},
   "source": [
    "## Insulin drug data analysis"
   ]
  },
  {
   "cell_type": "markdown",
   "metadata": {},
   "source": [
    "### Gather"
   ]
  },
  {
   "cell_type": "code",
   "execution_count": 1,
   "metadata": {},
   "outputs": [],
   "source": [
    "import pandas as pd\n",
    "import numpy as np\n",
    "from matplotlib import pyplot as plt\n",
    "%matplotlib inline"
   ]
  },
  {
   "cell_type": "code",
   "execution_count": 2,
   "metadata": {},
   "outputs": [],
   "source": [
    "patients = pd.read_csv('patients.csv')\n",
    "treatments = pd.read_csv('treatments.csv')\n",
    "adverse_reactions = pd.read_csv('adverse_reactions.csv')"
   ]
  },
  {
   "cell_type": "code",
   "execution_count": 3,
   "metadata": {},
   "outputs": [
    {
     "name": "stdout",
     "output_type": "stream",
     "text": [
      "<class 'pandas.core.frame.DataFrame'>\n",
      "RangeIndex: 503 entries, 0 to 502\n",
      "Data columns (total 14 columns):\n",
      " #   Column        Non-Null Count  Dtype  \n",
      "---  ------        --------------  -----  \n",
      " 0   patient_id    503 non-null    int64  \n",
      " 1   assigned_sex  503 non-null    object \n",
      " 2   given_name    503 non-null    object \n",
      " 3   surname       503 non-null    object \n",
      " 4   address       491 non-null    object \n",
      " 5   city          491 non-null    object \n",
      " 6   state         491 non-null    object \n",
      " 7   zip_code      491 non-null    float64\n",
      " 8   country       491 non-null    object \n",
      " 9   contact       491 non-null    object \n",
      " 10  birthdate     503 non-null    object \n",
      " 11  weight        503 non-null    float64\n",
      " 12  height        503 non-null    int64  \n",
      " 13  bmi           503 non-null    float64\n",
      "dtypes: float64(3), int64(2), object(9)\n",
      "memory usage: 55.1+ KB\n"
     ]
    }
   ],
   "source": [
    "patients.info()"
   ]
  },
  {
   "cell_type": "code",
   "execution_count": 4,
   "metadata": {},
   "outputs": [
    {
     "data": {
      "text/html": [
       "<div>\n",
       "<style scoped>\n",
       "    .dataframe tbody tr th:only-of-type {\n",
       "        vertical-align: middle;\n",
       "    }\n",
       "\n",
       "    .dataframe tbody tr th {\n",
       "        vertical-align: top;\n",
       "    }\n",
       "\n",
       "    .dataframe thead th {\n",
       "        text-align: right;\n",
       "    }\n",
       "</style>\n",
       "<table border=\"1\" class=\"dataframe\">\n",
       "  <thead>\n",
       "    <tr style=\"text-align: right;\">\n",
       "      <th></th>\n",
       "      <th>patient_id</th>\n",
       "      <th>assigned_sex</th>\n",
       "      <th>given_name</th>\n",
       "      <th>surname</th>\n",
       "      <th>address</th>\n",
       "      <th>city</th>\n",
       "      <th>state</th>\n",
       "      <th>zip_code</th>\n",
       "      <th>country</th>\n",
       "      <th>contact</th>\n",
       "      <th>birthdate</th>\n",
       "      <th>weight</th>\n",
       "      <th>height</th>\n",
       "      <th>bmi</th>\n",
       "    </tr>\n",
       "  </thead>\n",
       "  <tbody>\n",
       "    <tr>\n",
       "      <th>0</th>\n",
       "      <td>1</td>\n",
       "      <td>female</td>\n",
       "      <td>Zoe</td>\n",
       "      <td>Wellish</td>\n",
       "      <td>576 Brown Bear Drive</td>\n",
       "      <td>Rancho California</td>\n",
       "      <td>California</td>\n",
       "      <td>92390.0</td>\n",
       "      <td>United States</td>\n",
       "      <td>951-719-9170ZoeWellish@superrito.com</td>\n",
       "      <td>7/10/1976</td>\n",
       "      <td>121.7</td>\n",
       "      <td>66</td>\n",
       "      <td>19.6</td>\n",
       "    </tr>\n",
       "    <tr>\n",
       "      <th>1</th>\n",
       "      <td>2</td>\n",
       "      <td>female</td>\n",
       "      <td>Pamela</td>\n",
       "      <td>Hill</td>\n",
       "      <td>2370 University Hill Road</td>\n",
       "      <td>Armstrong</td>\n",
       "      <td>Illinois</td>\n",
       "      <td>61812.0</td>\n",
       "      <td>United States</td>\n",
       "      <td>PamelaSHill@cuvox.de+1 (217) 569-3204</td>\n",
       "      <td>4/3/1967</td>\n",
       "      <td>118.8</td>\n",
       "      <td>66</td>\n",
       "      <td>19.2</td>\n",
       "    </tr>\n",
       "    <tr>\n",
       "      <th>2</th>\n",
       "      <td>3</td>\n",
       "      <td>male</td>\n",
       "      <td>Jae</td>\n",
       "      <td>Debord</td>\n",
       "      <td>1493 Poling Farm Road</td>\n",
       "      <td>York</td>\n",
       "      <td>Nebraska</td>\n",
       "      <td>68467.0</td>\n",
       "      <td>United States</td>\n",
       "      <td>402-363-6804JaeMDebord@gustr.com</td>\n",
       "      <td>2/19/1980</td>\n",
       "      <td>177.8</td>\n",
       "      <td>71</td>\n",
       "      <td>24.8</td>\n",
       "    </tr>\n",
       "    <tr>\n",
       "      <th>3</th>\n",
       "      <td>4</td>\n",
       "      <td>male</td>\n",
       "      <td>Liêm</td>\n",
       "      <td>Phan</td>\n",
       "      <td>2335 Webster Street</td>\n",
       "      <td>Woodbridge</td>\n",
       "      <td>NJ</td>\n",
       "      <td>7095.0</td>\n",
       "      <td>United States</td>\n",
       "      <td>PhanBaLiem@jourrapide.com+1 (732) 636-8246</td>\n",
       "      <td>7/26/1951</td>\n",
       "      <td>220.9</td>\n",
       "      <td>70</td>\n",
       "      <td>31.7</td>\n",
       "    </tr>\n",
       "    <tr>\n",
       "      <th>4</th>\n",
       "      <td>5</td>\n",
       "      <td>male</td>\n",
       "      <td>Tim</td>\n",
       "      <td>Neudorf</td>\n",
       "      <td>1428 Turkey Pen Lane</td>\n",
       "      <td>Dothan</td>\n",
       "      <td>AL</td>\n",
       "      <td>36303.0</td>\n",
       "      <td>United States</td>\n",
       "      <td>334-515-7487TimNeudorf@cuvox.de</td>\n",
       "      <td>2/18/1928</td>\n",
       "      <td>192.3</td>\n",
       "      <td>27</td>\n",
       "      <td>26.1</td>\n",
       "    </tr>\n",
       "  </tbody>\n",
       "</table>\n",
       "</div>"
      ],
      "text/plain": [
       "   patient_id assigned_sex given_name  surname                    address  \\\n",
       "0           1       female        Zoe  Wellish       576 Brown Bear Drive   \n",
       "1           2       female     Pamela     Hill  2370 University Hill Road   \n",
       "2           3         male        Jae   Debord      1493 Poling Farm Road   \n",
       "3           4         male       Liêm     Phan        2335 Webster Street   \n",
       "4           5         male        Tim  Neudorf       1428 Turkey Pen Lane   \n",
       "\n",
       "                city       state  zip_code        country  \\\n",
       "0  Rancho California  California   92390.0  United States   \n",
       "1          Armstrong    Illinois   61812.0  United States   \n",
       "2               York    Nebraska   68467.0  United States   \n",
       "3         Woodbridge          NJ    7095.0  United States   \n",
       "4             Dothan          AL   36303.0  United States   \n",
       "\n",
       "                                      contact  birthdate  weight  height   bmi  \n",
       "0        951-719-9170ZoeWellish@superrito.com  7/10/1976   121.7      66  19.6  \n",
       "1       PamelaSHill@cuvox.de+1 (217) 569-3204   4/3/1967   118.8      66  19.2  \n",
       "2            402-363-6804JaeMDebord@gustr.com  2/19/1980   177.8      71  24.8  \n",
       "3  PhanBaLiem@jourrapide.com+1 (732) 636-8246  7/26/1951   220.9      70  31.7  \n",
       "4             334-515-7487TimNeudorf@cuvox.de  2/18/1928   192.3      27  26.1  "
      ]
     },
     "execution_count": 4,
     "metadata": {},
     "output_type": "execute_result"
    }
   ],
   "source": [
    "patients.head()"
   ]
  },
  {
   "cell_type": "code",
   "execution_count": 5,
   "metadata": {},
   "outputs": [
    {
     "data": {
      "text/plain": [
       "33"
      ]
     },
     "execution_count": 5,
     "metadata": {},
     "output_type": "execute_result"
    }
   ],
   "source": [
    "sum(patients.given_name.duplicated())"
   ]
  },
  {
   "cell_type": "code",
   "execution_count": 6,
   "metadata": {},
   "outputs": [
    {
     "name": "stdout",
     "output_type": "stream",
     "text": [
      "<class 'pandas.core.frame.DataFrame'>\n",
      "RangeIndex: 503 entries, 0 to 502\n",
      "Data columns (total 14 columns):\n",
      " #   Column        Non-Null Count  Dtype  \n",
      "---  ------        --------------  -----  \n",
      " 0   patient_id    503 non-null    int64  \n",
      " 1   assigned_sex  503 non-null    object \n",
      " 2   given_name    503 non-null    object \n",
      " 3   surname       503 non-null    object \n",
      " 4   address       491 non-null    object \n",
      " 5   city          491 non-null    object \n",
      " 6   state         491 non-null    object \n",
      " 7   zip_code      491 non-null    float64\n",
      " 8   country       491 non-null    object \n",
      " 9   contact       491 non-null    object \n",
      " 10  birthdate     503 non-null    object \n",
      " 11  weight        503 non-null    float64\n",
      " 12  height        503 non-null    int64  \n",
      " 13  bmi           503 non-null    float64\n",
      "dtypes: float64(3), int64(2), object(9)\n",
      "memory usage: 55.1+ KB\n"
     ]
    }
   ],
   "source": [
    "patients.info()"
   ]
  },
  {
   "cell_type": "code",
   "execution_count": 7,
   "metadata": {},
   "outputs": [
    {
     "data": {
      "text/plain": [
       "0           Zoe\n",
       "1        Pamela\n",
       "2           Jae\n",
       "3          Liêm\n",
       "4           Tim\n",
       "         ...   \n",
       "497    Masataka\n",
       "499       Ruman\n",
       "500       Jinke\n",
       "501     Chidalu\n",
       "502         Pat\n",
       "Name: given_name, Length: 470, dtype: object"
      ]
     },
     "execution_count": 7,
     "metadata": {},
     "output_type": "execute_result"
    }
   ],
   "source": [
    "patients.given_name.drop_duplicates()"
   ]
  },
  {
   "cell_type": "code",
   "execution_count": 8,
   "metadata": {},
   "outputs": [
    {
     "data": {
      "text/plain": [
       "0"
      ]
     },
     "execution_count": 8,
     "metadata": {},
     "output_type": "execute_result"
    }
   ],
   "source": [
    "patients.given_name.isna().sum()"
   ]
  },
  {
   "cell_type": "code",
   "execution_count": 9,
   "metadata": {},
   "outputs": [
    {
     "data": {
      "text/plain": [
       "patient_id      491\n",
       "assigned_sex    491\n",
       "given_name      491\n",
       "surname         491\n",
       "address         491\n",
       "city            491\n",
       "state           491\n",
       "zip_code        491\n",
       "country         491\n",
       "contact         491\n",
       "birthdate       491\n",
       "weight          491\n",
       "height          491\n",
       "bmi             491\n",
       "dtype: int64"
      ]
     },
     "execution_count": 9,
     "metadata": {},
     "output_type": "execute_result"
    }
   ],
   "source": [
    "patients.dropna().count()"
   ]
  },
  {
   "cell_type": "code",
   "execution_count": 10,
   "metadata": {},
   "outputs": [
    {
     "data": {
      "text/plain": [
       "array(['Rancho California', 'Armstrong', 'York', 'Woodbridge', 'Dothan',\n",
       "       'Daytona Beach', 'Burbank', 'Morgan Hill', 'Kansas City',\n",
       "       'New York', 'Rudyard', 'Brentwood', 'Lynchburg', 'Birmingham',\n",
       "       'Tulsa', 'Kingsport', 'Fresno', 'Smyrna', 'Ekalaka', 'Oroville',\n",
       "       'Whitman', 'Elmsford', 'Pleasantville', 'Winter Haven',\n",
       "       'Port Jervis', 'Albuquerque', 'Peoria', 'Venice',\n",
       "       'Fort Washington', 'Englewood', 'Bluff City', 'Long Beach',\n",
       "       'Dekalb', 'Orrington', 'Eau Claire', 'Huron', 'Westborough',\n",
       "       'Walpole', 'Atlanta', 'Danube', 'West Palm Beach', 'Mountain View',\n",
       "       'Waterville', 'Adamsville', 'Pittsburgh', 'Lombard', 'Maumee',\n",
       "       'Wilkes Barre', 'Davenport', 'Urbandale', 'Franklin', 'Burlington',\n",
       "       'Las Vegas', 'Eatonton', 'La Mesa', 'Wilson', 'San Diego',\n",
       "       'Bakersfield', 'Belmont', 'Syracuse', 'Rossville', 'Marlboro',\n",
       "       'Milwaukee', 'Athens', 'Hartford', 'Metairie', 'Foxboro',\n",
       "       'Fremont', 'Minneapolis', 'Lexington', 'Mansfield', 'Philadelphia',\n",
       "       'Westbury', 'Gate', 'Dayton', 'Kissimmee', 'Temple Hills',\n",
       "       'Ogilvie', 'Augusta', 'Tempe', 'Buffalo', 'Houston', 'Mount Holly',\n",
       "       'Sunrise', 'Miami', 'Blackwell', 'Presque Isle', 'Burr',\n",
       "       'Fairbanks', 'Binford', 'Fordland', 'Montgomery', 'Maitland',\n",
       "       'Phoenix', 'Clinton', 'New Castle', 'Mount Airy', 'Bushton',\n",
       "       'Hattiesburg', 'Dallas', 'Newhall', 'Newport News', 'Manhattan',\n",
       "       'Lakeport', 'Allen', 'New Orleans', 'Delcambre', 'San Francisco',\n",
       "       'Grand Rapids', 'Tampa', 'Quincy', 'Boston', 'Elma',\n",
       "       'Indianapolis', 'North Charleston', 'Rainelle', 'Lake Ariel',\n",
       "       'Columbia', 'Albany', 'Cleveland', 'Los Angeles', 'Pompano Beach',\n",
       "       'Richmond', 'Cincinnati', 'Decatur', 'Seattle', 'Fort Wayne',\n",
       "       'Eagleville', 'East Chicago', 'West Los Angeles', 'Brooklyn',\n",
       "       'Mountain Home', 'Dundee', 'Citrus Heights', 'Reno', 'Madison',\n",
       "       'East Saint Louis', 'Roseville', 'Chilton', 'Sylva', 'Chester',\n",
       "       'Sacramento', 'Winnsboro', 'Olathe', 'Yazoo City', 'Longview',\n",
       "       'Bedford', 'Palo Alto', 'Bensalem', 'La Grange', 'Iowa City',\n",
       "       'Auburn Hills', 'Spokane', 'Jacksonville', 'Lowell', 'Chicago',\n",
       "       'Marshalltown', 'Monroe', 'Gypsum', 'Jersey City', 'Fontana',\n",
       "       'Ormond Beach', 'Elkton', 'Providence', 'Gibsonia', 'Garden City',\n",
       "       'West Haven', 'Hopewell  Mercer', 'Austin', 'Gaylord', 'Dora',\n",
       "       'Pennsauken', 'Exeter', 'Portland', 'Harvester', 'Oklahoma City',\n",
       "       'Tonawanda', 'Canadian', 'Saginaw', 'Arlington', nan, 'Wooster',\n",
       "       'Saint Paul', 'Charlotte', 'La Follette', 'Oakland', 'Louisville',\n",
       "       'Downey', 'Brattleboro', 'Washington', 'Fairview Park', 'Omaha',\n",
       "       'Halifax', 'Pippa Passes', 'Aurora', 'Gulfport', 'Huntsville',\n",
       "       'Superior', 'Rockford', 'Santa Ana', 'North Loup', 'Dundalk',\n",
       "       'Orlando', 'Elk Lake', 'Trevorton', 'Antioch', 'Mio', 'Whitesburg',\n",
       "       'Salina', 'San Carlos', 'Granite City', 'Edinburg', 'State Line',\n",
       "       'Westerville', 'Hope', 'Riverton', 'San Antonio', 'Santa Cruz',\n",
       "       'Kenner', 'Camden Wyoming', 'Cissna Park', 'Walnut Creek',\n",
       "       'Cambridge', 'Crafton', 'Corpus Christi', 'Bovill', 'Columbus',\n",
       "       'Detroit', 'Binghamton', 'Palmyra', 'Huntington', 'Lenexa',\n",
       "       'Atmore', 'Branchburg', 'Amherst', 'Fargo', 'Schenectady',\n",
       "       'Belleville', 'Pritchardville', 'Irvine', 'Old Hickory',\n",
       "       'Monroeville', 'Bartlett', 'Crawfordsville', 'Pontiac', 'Eagle',\n",
       "       'Apple Valley', 'Palmdale', 'Fullerton', 'Stamford', 'Medaryville',\n",
       "       'New Glarus', 'Packwood', 'Rylie', 'Chattanooga', 'Savannah',\n",
       "       'Dudley', 'Newark', 'Maurepas', 'Bellefontaine', 'Meriden',\n",
       "       'Copperas Cove', 'El Paso', 'Norfolk', 'Sherman Oaks', 'Salem',\n",
       "       'Aberdeen', 'Sparks', 'Taunton', 'Weehawken', 'Collinsville',\n",
       "       'Springdale', 'Colfax', 'Houma', 'Wichita', 'Tolono', 'Memphis',\n",
       "       'Sulphur', 'Wheatley', 'Mount Pleasant', 'Monteview', 'Custer',\n",
       "       'Nellysford', 'San Jose', 'Fort Lauderdale', 'Shreveport',\n",
       "       'Lemont', 'Reston', 'Tyler', 'Yadkinville', 'Sebring',\n",
       "       'Scottsville', 'Cave Spring', 'Plymouth', 'Lawrence', 'Utica',\n",
       "       'Texas City', 'Dalton', 'Grayling', 'Wayne', 'Versailles',\n",
       "       'Diamond Bar', 'Redmond', 'Stanton', 'Little Rock', 'Haverhill',\n",
       "       'Colorado Springs', 'Abilene', 'Grand Forks', 'Devils Lake',\n",
       "       'Dublin', 'Anaheim', 'Union Grove', 'New Philadelphia',\n",
       "       'Des Moines', 'St Elizabeth', 'San Joaquin', 'Ocala', 'Mclain',\n",
       "       'Garfield Heights', 'Roslyn', 'Upland', 'Harrisburg', 'Cumberland',\n",
       "       'Yardley', 'Fort Worth', 'Owensville', 'Springville', 'Hillsboro',\n",
       "       'Golden Valley', 'Redding', 'Argyle', 'Wilmington', 'Live Oak',\n",
       "       'Natchez', 'South Boston', 'Florence', 'Ontario', 'Greensboro',\n",
       "       'Fort Walton Beach', 'Waco', 'Ottawa', 'Lafayette', 'New Rochelle',\n",
       "       'Boise', 'San Mateo', 'Stockton', 'Milton Mills', 'Sedona',\n",
       "       'Overland Park'], dtype=object)"
      ]
     },
     "execution_count": 10,
     "metadata": {},
     "output_type": "execute_result"
    }
   ],
   "source": [
    "patients.city.unique()"
   ]
  },
  {
   "cell_type": "code",
   "execution_count": 11,
   "metadata": {},
   "outputs": [
    {
     "name": "stdout",
     "output_type": "stream",
     "text": [
      "<class 'pandas.core.frame.DataFrame'>\n",
      "RangeIndex: 503 entries, 0 to 502\n",
      "Data columns (total 14 columns):\n",
      " #   Column        Non-Null Count  Dtype         \n",
      "---  ------        --------------  -----         \n",
      " 0   patient_id    503 non-null    int64         \n",
      " 1   assigned_sex  503 non-null    object        \n",
      " 2   given_name    503 non-null    object        \n",
      " 3   surname       503 non-null    object        \n",
      " 4   address       491 non-null    object        \n",
      " 5   city          491 non-null    object        \n",
      " 6   state         491 non-null    object        \n",
      " 7   zip_code      491 non-null    float64       \n",
      " 8   country       491 non-null    object        \n",
      " 9   contact       491 non-null    object        \n",
      " 10  birthdate     503 non-null    datetime64[ns]\n",
      " 11  weight        503 non-null    float64       \n",
      " 12  height        503 non-null    int64         \n",
      " 13  bmi           503 non-null    float64       \n",
      "dtypes: datetime64[ns](1), float64(3), int64(2), object(8)\n",
      "memory usage: 55.1+ KB\n"
     ]
    }
   ],
   "source": [
    "patients.birthdate = pd.to_datetime(patients.birthdate)\n",
    "patients.info()"
   ]
  },
  {
   "cell_type": "code",
   "execution_count": 12,
   "metadata": {},
   "outputs": [
    {
     "data": {
      "text/plain": [
       "1975-01-01    6\n",
       "1954-05-03    2\n",
       "1938-03-25    2\n",
       "1985-08-01    2\n",
       "1959-04-10    2\n",
       "             ..\n",
       "1992-09-29    1\n",
       "1967-04-21    1\n",
       "1969-05-21    1\n",
       "1928-10-11    1\n",
       "1952-02-13    1\n",
       "Name: birthdate, Length: 493, dtype: int64"
      ]
     },
     "execution_count": 12,
     "metadata": {},
     "output_type": "execute_result"
    }
   ],
   "source": [
    "patients.birthdate.value_counts()"
   ]
  },
  {
   "cell_type": "code",
   "execution_count": 13,
   "metadata": {},
   "outputs": [
    {
     "data": {
      "text/plain": [
       "patient_id      503\n",
       "assigned_sex      2\n",
       "given_name      470\n",
       "surname         466\n",
       "address         483\n",
       "city            349\n",
       "state            54\n",
       "zip_code        430\n",
       "country           1\n",
       "contact         483\n",
       "birthdate       493\n",
       "weight          347\n",
       "height           22\n",
       "bmi             183\n",
       "dtype: int64"
      ]
     },
     "execution_count": 13,
     "metadata": {},
     "output_type": "execute_result"
    }
   ],
   "source": [
    "patients.nunique()"
   ]
  },
  {
   "cell_type": "code",
   "execution_count": 14,
   "metadata": {
    "scrolled": true
   },
   "outputs": [
    {
     "data": {
      "text/html": [
       "<div>\n",
       "<style scoped>\n",
       "    .dataframe tbody tr th:only-of-type {\n",
       "        vertical-align: middle;\n",
       "    }\n",
       "\n",
       "    .dataframe tbody tr th {\n",
       "        vertical-align: top;\n",
       "    }\n",
       "\n",
       "    .dataframe thead th {\n",
       "        text-align: right;\n",
       "    }\n",
       "</style>\n",
       "<table border=\"1\" class=\"dataframe\">\n",
       "  <thead>\n",
       "    <tr style=\"text-align: right;\">\n",
       "      <th></th>\n",
       "      <th>given_name</th>\n",
       "      <th>surname</th>\n",
       "      <th>auralin</th>\n",
       "      <th>novodra</th>\n",
       "      <th>hba1c_start</th>\n",
       "      <th>hba1c_end</th>\n",
       "      <th>hba1c_change</th>\n",
       "    </tr>\n",
       "  </thead>\n",
       "  <tbody>\n",
       "    <tr>\n",
       "      <th>0</th>\n",
       "      <td>veronika</td>\n",
       "      <td>jindrová</td>\n",
       "      <td>41u - 48u</td>\n",
       "      <td>-</td>\n",
       "      <td>7.63</td>\n",
       "      <td>7.20</td>\n",
       "      <td>NaN</td>\n",
       "    </tr>\n",
       "    <tr>\n",
       "      <th>1</th>\n",
       "      <td>elliot</td>\n",
       "      <td>richardson</td>\n",
       "      <td>-</td>\n",
       "      <td>40u - 45u</td>\n",
       "      <td>7.56</td>\n",
       "      <td>7.09</td>\n",
       "      <td>0.97</td>\n",
       "    </tr>\n",
       "    <tr>\n",
       "      <th>2</th>\n",
       "      <td>yukitaka</td>\n",
       "      <td>takenaka</td>\n",
       "      <td>-</td>\n",
       "      <td>39u - 36u</td>\n",
       "      <td>7.68</td>\n",
       "      <td>7.25</td>\n",
       "      <td>NaN</td>\n",
       "    </tr>\n",
       "    <tr>\n",
       "      <th>3</th>\n",
       "      <td>skye</td>\n",
       "      <td>gormanston</td>\n",
       "      <td>33u - 36u</td>\n",
       "      <td>-</td>\n",
       "      <td>7.97</td>\n",
       "      <td>7.62</td>\n",
       "      <td>0.35</td>\n",
       "    </tr>\n",
       "    <tr>\n",
       "      <th>4</th>\n",
       "      <td>alissa</td>\n",
       "      <td>montez</td>\n",
       "      <td>-</td>\n",
       "      <td>33u - 29u</td>\n",
       "      <td>7.78</td>\n",
       "      <td>7.46</td>\n",
       "      <td>0.32</td>\n",
       "    </tr>\n",
       "  </tbody>\n",
       "</table>\n",
       "</div>"
      ],
      "text/plain": [
       "  given_name     surname    auralin    novodra  hba1c_start  hba1c_end  \\\n",
       "0   veronika    jindrová  41u - 48u          -         7.63       7.20   \n",
       "1     elliot  richardson          -  40u - 45u         7.56       7.09   \n",
       "2   yukitaka    takenaka          -  39u - 36u         7.68       7.25   \n",
       "3       skye  gormanston  33u - 36u          -         7.97       7.62   \n",
       "4     alissa      montez          -  33u - 29u         7.78       7.46   \n",
       "\n",
       "   hba1c_change  \n",
       "0           NaN  \n",
       "1          0.97  \n",
       "2           NaN  \n",
       "3          0.35  \n",
       "4          0.32  "
      ]
     },
     "execution_count": 14,
     "metadata": {},
     "output_type": "execute_result"
    }
   ],
   "source": [
    "treatments.head()"
   ]
  },
  {
   "cell_type": "code",
   "execution_count": 15,
   "metadata": {},
   "outputs": [
    {
     "data": {
      "text/plain": [
       "given_name      280\n",
       "surname         280\n",
       "auralin         280\n",
       "novodra         280\n",
       "hba1c_start     280\n",
       "hba1c_end       280\n",
       "hba1c_change    171\n",
       "dtype: int64"
      ]
     },
     "execution_count": 15,
     "metadata": {},
     "output_type": "execute_result"
    }
   ],
   "source": [
    "treatments.count()"
   ]
  },
  {
   "cell_type": "code",
   "execution_count": 16,
   "metadata": {
    "scrolled": true,
    "tags": []
   },
   "outputs": [
    {
     "data": {
      "text/html": [
       "<div>\n",
       "<style scoped>\n",
       "    .dataframe tbody tr th:only-of-type {\n",
       "        vertical-align: middle;\n",
       "    }\n",
       "\n",
       "    .dataframe tbody tr th {\n",
       "        vertical-align: top;\n",
       "    }\n",
       "\n",
       "    .dataframe thead th {\n",
       "        text-align: right;\n",
       "    }\n",
       "</style>\n",
       "<table border=\"1\" class=\"dataframe\">\n",
       "  <thead>\n",
       "    <tr style=\"text-align: right;\">\n",
       "      <th></th>\n",
       "      <th>given_name</th>\n",
       "      <th>surname</th>\n",
       "      <th>adverse_reaction</th>\n",
       "    </tr>\n",
       "  </thead>\n",
       "  <tbody>\n",
       "    <tr>\n",
       "      <th>0</th>\n",
       "      <td>berta</td>\n",
       "      <td>napolitani</td>\n",
       "      <td>injection site discomfort</td>\n",
       "    </tr>\n",
       "    <tr>\n",
       "      <th>1</th>\n",
       "      <td>lena</td>\n",
       "      <td>baer</td>\n",
       "      <td>hypoglycemia</td>\n",
       "    </tr>\n",
       "    <tr>\n",
       "      <th>2</th>\n",
       "      <td>joseph</td>\n",
       "      <td>day</td>\n",
       "      <td>hypoglycemia</td>\n",
       "    </tr>\n",
       "    <tr>\n",
       "      <th>3</th>\n",
       "      <td>flavia</td>\n",
       "      <td>fiorentino</td>\n",
       "      <td>cough</td>\n",
       "    </tr>\n",
       "    <tr>\n",
       "      <th>4</th>\n",
       "      <td>manouck</td>\n",
       "      <td>wubbels</td>\n",
       "      <td>throat irritation</td>\n",
       "    </tr>\n",
       "  </tbody>\n",
       "</table>\n",
       "</div>"
      ],
      "text/plain": [
       "  given_name     surname           adverse_reaction\n",
       "0      berta  napolitani  injection site discomfort\n",
       "1       lena        baer               hypoglycemia\n",
       "2     joseph         day               hypoglycemia\n",
       "3     flavia  fiorentino                      cough\n",
       "4    manouck     wubbels          throat irritation"
      ]
     },
     "execution_count": 16,
     "metadata": {},
     "output_type": "execute_result"
    }
   ],
   "source": [
    "adverse_reactions.head()"
   ]
  },
  {
   "cell_type": "code",
   "execution_count": 17,
   "metadata": {},
   "outputs": [
    {
     "name": "stdout",
     "output_type": "stream",
     "text": [
      "<class 'pandas.core.frame.DataFrame'>\n",
      "RangeIndex: 280 entries, 0 to 279\n",
      "Data columns (total 7 columns):\n",
      " #   Column        Non-Null Count  Dtype  \n",
      "---  ------        --------------  -----  \n",
      " 0   given_name    280 non-null    object \n",
      " 1   surname       280 non-null    object \n",
      " 2   auralin       280 non-null    object \n",
      " 3   novodra       280 non-null    object \n",
      " 4   hba1c_start   280 non-null    float64\n",
      " 5   hba1c_end     280 non-null    float64\n",
      " 6   hba1c_change  171 non-null    float64\n",
      "dtypes: float64(3), object(4)\n",
      "memory usage: 15.4+ KB\n"
     ]
    }
   ],
   "source": [
    "treatments.info()"
   ]
  },
  {
   "cell_type": "markdown",
   "metadata": {},
   "source": [
    "### Assessment - quality issue\n",
    "patients table: \n",
    "* zip code data type incorrect due to string float conversion\n",
    "* zip code padding zero issue, wrong number of digits\n",
    "* wrong height data e.g. 27in, data anomaly\n",
    "* inconsistent State data e.g.fullname vs abbv.\n",
    "* name typo,  given_name for the patient with the patient_id 9, Dsvid Gustafsson\n",
    "* Missing demographic information ('address' to 'contact' columns)with null values, missing entries null values\n",
    "* Erroneous datatypes (assigned sex, state, zip_code, and birthdate columns)\n",
    "* Multiple phone number formats\n",
    "* Default John Doe data\n",
    "* Multiple records for Jakobsen, Gersten, Taylor\n",
    "* kgs instead of lbs for Zaitseva weight\n",
    "\n",
    "treatments table:\n",
    "* missing value NaN in HbA1c change\n",
    "* letter 'u' next to the start dose and end dose in the auralin and novodra columns, data type should be integers\n",
    "* lowercase given name & surname\n",
    "* missing record count(only 280 instead of 350)\n",
    "* hba1c_change column missing record(only 171)\n",
    "* Erroneous datatypes (auralin and novodra columns)\n",
    "* Inaccurate HbA1c changes (4s mistaken as 9s) inaccurate value\n",
    "* Nulls represented as dashes (-) in auralin and novodra columns\n",
    "\n",
    "adverse_reactions table:\n",
    "* lowercase for given name & surname"
   ]
  },
  {
   "cell_type": "code",
   "execution_count": 18,
   "metadata": {},
   "outputs": [
    {
     "data": {
      "text/html": [
       "<div>\n",
       "<style scoped>\n",
       "    .dataframe tbody tr th:only-of-type {\n",
       "        vertical-align: middle;\n",
       "    }\n",
       "\n",
       "    .dataframe tbody tr th {\n",
       "        vertical-align: top;\n",
       "    }\n",
       "\n",
       "    .dataframe thead th {\n",
       "        text-align: right;\n",
       "    }\n",
       "</style>\n",
       "<table border=\"1\" class=\"dataframe\">\n",
       "  <thead>\n",
       "    <tr style=\"text-align: right;\">\n",
       "      <th></th>\n",
       "      <th>given_name</th>\n",
       "      <th>surname</th>\n",
       "      <th>auralin</th>\n",
       "      <th>novodra</th>\n",
       "      <th>hba1c_start</th>\n",
       "      <th>hba1c_end</th>\n",
       "      <th>hba1c_change</th>\n",
       "    </tr>\n",
       "  </thead>\n",
       "  <tbody>\n",
       "    <tr>\n",
       "      <th>38</th>\n",
       "      <td>kristján</td>\n",
       "      <td>ingason</td>\n",
       "      <td>44u - 55u</td>\n",
       "      <td>-</td>\n",
       "      <td>7.92</td>\n",
       "      <td>7.57</td>\n",
       "      <td>0.35</td>\n",
       "    </tr>\n",
       "    <tr>\n",
       "      <th>6</th>\n",
       "      <td>sophia</td>\n",
       "      <td>haugen</td>\n",
       "      <td>37u - 42u</td>\n",
       "      <td>-</td>\n",
       "      <td>7.65</td>\n",
       "      <td>7.27</td>\n",
       "      <td>0.38</td>\n",
       "    </tr>\n",
       "    <tr>\n",
       "      <th>267</th>\n",
       "      <td>leon</td>\n",
       "      <td>scholz</td>\n",
       "      <td>-</td>\n",
       "      <td>38u - 32u</td>\n",
       "      <td>7.72</td>\n",
       "      <td>7.29</td>\n",
       "      <td>0.93</td>\n",
       "    </tr>\n",
       "    <tr>\n",
       "      <th>120</th>\n",
       "      <td>zikoranaudodimma</td>\n",
       "      <td>chinedum</td>\n",
       "      <td>41u - 51u</td>\n",
       "      <td>-</td>\n",
       "      <td>8.19</td>\n",
       "      <td>7.83</td>\n",
       "      <td>0.36</td>\n",
       "    </tr>\n",
       "    <tr>\n",
       "      <th>60</th>\n",
       "      <td>onyekachukwu</td>\n",
       "      <td>obinna</td>\n",
       "      <td>37u - 46u</td>\n",
       "      <td>-</td>\n",
       "      <td>7.58</td>\n",
       "      <td>7.12</td>\n",
       "      <td>NaN</td>\n",
       "    </tr>\n",
       "  </tbody>\n",
       "</table>\n",
       "</div>"
      ],
      "text/plain": [
       "           given_name   surname    auralin    novodra  hba1c_start  hba1c_end  \\\n",
       "38           kristján   ingason  44u - 55u          -         7.92       7.57   \n",
       "6              sophia    haugen  37u - 42u          -         7.65       7.27   \n",
       "267              leon    scholz          -  38u - 32u         7.72       7.29   \n",
       "120  zikoranaudodimma  chinedum  41u - 51u          -         8.19       7.83   \n",
       "60       onyekachukwu    obinna  37u - 46u          -         7.58       7.12   \n",
       "\n",
       "     hba1c_change  \n",
       "38           0.35  \n",
       "6            0.38  \n",
       "267          0.93  \n",
       "120          0.36  \n",
       "60            NaN  "
      ]
     },
     "execution_count": 18,
     "metadata": {},
     "output_type": "execute_result"
    }
   ],
   "source": [
    "treatments.sample(5)"
   ]
  },
  {
   "cell_type": "code",
   "execution_count": 19,
   "metadata": {},
   "outputs": [
    {
     "data": {
      "text/html": [
       "<div>\n",
       "<style scoped>\n",
       "    .dataframe tbody tr th:only-of-type {\n",
       "        vertical-align: middle;\n",
       "    }\n",
       "\n",
       "    .dataframe tbody tr th {\n",
       "        vertical-align: top;\n",
       "    }\n",
       "\n",
       "    .dataframe thead th {\n",
       "        text-align: right;\n",
       "    }\n",
       "</style>\n",
       "<table border=\"1\" class=\"dataframe\">\n",
       "  <thead>\n",
       "    <tr style=\"text-align: right;\">\n",
       "      <th></th>\n",
       "      <th>hba1c_start</th>\n",
       "      <th>hba1c_end</th>\n",
       "      <th>hba1c_change</th>\n",
       "    </tr>\n",
       "  </thead>\n",
       "  <tbody>\n",
       "    <tr>\n",
       "      <th>count</th>\n",
       "      <td>280.000000</td>\n",
       "      <td>280.000000</td>\n",
       "      <td>171.000000</td>\n",
       "    </tr>\n",
       "    <tr>\n",
       "      <th>mean</th>\n",
       "      <td>7.985929</td>\n",
       "      <td>7.589286</td>\n",
       "      <td>0.546023</td>\n",
       "    </tr>\n",
       "    <tr>\n",
       "      <th>std</th>\n",
       "      <td>0.568638</td>\n",
       "      <td>0.569672</td>\n",
       "      <td>0.279555</td>\n",
       "    </tr>\n",
       "    <tr>\n",
       "      <th>min</th>\n",
       "      <td>7.500000</td>\n",
       "      <td>7.010000</td>\n",
       "      <td>0.200000</td>\n",
       "    </tr>\n",
       "    <tr>\n",
       "      <th>25%</th>\n",
       "      <td>7.660000</td>\n",
       "      <td>7.270000</td>\n",
       "      <td>0.340000</td>\n",
       "    </tr>\n",
       "    <tr>\n",
       "      <th>50%</th>\n",
       "      <td>7.800000</td>\n",
       "      <td>7.420000</td>\n",
       "      <td>0.380000</td>\n",
       "    </tr>\n",
       "    <tr>\n",
       "      <th>75%</th>\n",
       "      <td>7.970000</td>\n",
       "      <td>7.570000</td>\n",
       "      <td>0.920000</td>\n",
       "    </tr>\n",
       "    <tr>\n",
       "      <th>max</th>\n",
       "      <td>9.950000</td>\n",
       "      <td>9.580000</td>\n",
       "      <td>0.990000</td>\n",
       "    </tr>\n",
       "  </tbody>\n",
       "</table>\n",
       "</div>"
      ],
      "text/plain": [
       "       hba1c_start   hba1c_end  hba1c_change\n",
       "count   280.000000  280.000000    171.000000\n",
       "mean      7.985929    7.589286      0.546023\n",
       "std       0.568638    0.569672      0.279555\n",
       "min       7.500000    7.010000      0.200000\n",
       "25%       7.660000    7.270000      0.340000\n",
       "50%       7.800000    7.420000      0.380000\n",
       "75%       7.970000    7.570000      0.920000\n",
       "max       9.950000    9.580000      0.990000"
      ]
     },
     "execution_count": 19,
     "metadata": {},
     "output_type": "execute_result"
    }
   ],
   "source": [
    "treatments.describe()"
   ]
  },
  {
   "cell_type": "code",
   "execution_count": 20,
   "metadata": {},
   "outputs": [
    {
     "data": {
      "text/plain": [
       "2"
      ]
     },
     "execution_count": 20,
     "metadata": {},
     "output_type": "execute_result"
    }
   ],
   "source": [
    "# show reaction values count\n",
    "adverse_reactions.adverse_reaction.value_counts()['cough']"
   ]
  },
  {
   "cell_type": "code",
   "execution_count": 21,
   "metadata": {},
   "outputs": [
    {
     "data": {
      "text/plain": [
       "New York         18\n",
       "San Diego         8\n",
       "Tulsa             7\n",
       "Atlanta           6\n",
       "Houston           6\n",
       "                 ..\n",
       "Yazoo City        1\n",
       "Olathe            1\n",
       "Winnsboro         1\n",
       "Chester           1\n",
       "Overland Park     1\n",
       "Name: city, Length: 349, dtype: int64"
      ]
     },
     "execution_count": 21,
     "metadata": {},
     "output_type": "execute_result"
    }
   ],
   "source": [
    "patients['city'].value_counts()"
   ]
  },
  {
   "cell_type": "code",
   "execution_count": 22,
   "metadata": {},
   "outputs": [
    {
     "data": {
      "text/plain": [
       "123 Main Street             6\n",
       "2778 North Avenue           2\n",
       "2476 Fulton Street          2\n",
       "648 Old Dear Lane           2\n",
       "3094 Oral Lake Road         1\n",
       "                           ..\n",
       "1066 Goosetown Drive        1\n",
       "4291 Patton Lane            1\n",
       "4643 Reeves Street          1\n",
       "174 Lost Creek Road         1\n",
       "3652 Boone Crockett Lane    1\n",
       "Name: address, Length: 483, dtype: int64"
      ]
     },
     "execution_count": 22,
     "metadata": {},
     "output_type": "execute_result"
    }
   ],
   "source": [
    "patients.address.value_counts()"
   ]
  },
  {
   "cell_type": "code",
   "execution_count": 23,
   "metadata": {},
   "outputs": [
    {
     "data": {
      "text/plain": [
       "8"
      ]
     },
     "execution_count": 23,
     "metadata": {},
     "output_type": "execute_result"
    }
   ],
   "source": [
    "# check count of specific city of patient\n",
    "patients[patients['city']=='San Diego'].city.count()"
   ]
  },
  {
   "cell_type": "code",
   "execution_count": 24,
   "metadata": {},
   "outputs": [
    {
     "data": {
      "text/plain": [
       "patient_id      503\n",
       "assigned_sex    503\n",
       "given_name      503\n",
       "surname         503\n",
       "address         491\n",
       "city            491\n",
       "state           491\n",
       "zip_code        491\n",
       "country         491\n",
       "contact         491\n",
       "birthdate       503\n",
       "weight          503\n",
       "height          503\n",
       "bmi             503\n",
       "dtype: int64"
      ]
     },
     "execution_count": 24,
     "metadata": {},
     "output_type": "execute_result"
    }
   ],
   "source": [
    "patients.count()"
   ]
  },
  {
   "cell_type": "code",
   "execution_count": 25,
   "metadata": {},
   "outputs": [
    {
     "name": "stderr",
     "output_type": "stream",
     "text": [
      "<ipython-input-25-4bd0247bf30e>:2: FutureWarning: Dropping of nuisance columns in DataFrame reductions (with 'numeric_only=None') is deprecated; in a future version this will raise TypeError.  Select only valid columns before calling the reduction.\n",
      "  patients[patients['address'].isnull()].sum()['address']\n"
     ]
    },
    {
     "data": {
      "text/plain": [
       "0"
      ]
     },
     "execution_count": 25,
     "metadata": {},
     "output_type": "execute_result"
    }
   ],
   "source": [
    "# check null value in address field\n",
    "patients[patients['address'].isnull()].sum()['address']"
   ]
  },
  {
   "cell_type": "code",
   "execution_count": 26,
   "metadata": {},
   "outputs": [
    {
     "data": {
      "text/plain": [
       "12"
      ]
     },
     "execution_count": 26,
     "metadata": {},
     "output_type": "execute_result"
    }
   ],
   "source": [
    "# check null value in contact field\n",
    "patients['contact'].isnull().sum()"
   ]
  },
  {
   "cell_type": "code",
   "execution_count": 27,
   "metadata": {},
   "outputs": [
    {
     "data": {
      "text/plain": [
       "patient_id      19\n",
       "assigned_sex    19\n",
       "given_name      19\n",
       "surname         19\n",
       "address          8\n",
       "city             8\n",
       "state            8\n",
       "zip_code         8\n",
       "country          8\n",
       "contact          8\n",
       "birthdate       19\n",
       "weight          19\n",
       "height          19\n",
       "bmi             19\n",
       "dtype: int64"
      ]
     },
     "execution_count": 27,
     "metadata": {},
     "output_type": "execute_result"
    }
   ],
   "source": [
    "# check duplicates\n",
    "patients[patients.address.duplicated()].count()"
   ]
  },
  {
   "cell_type": "code",
   "execution_count": 28,
   "metadata": {},
   "outputs": [
    {
     "data": {
      "text/plain": [
       "69        Joseph\n",
       "72         Søren\n",
       "104       Yasmin\n",
       "109      Stephen\n",
       "115     Caroline\n",
       "153         John\n",
       "188        Søren\n",
       "215         John\n",
       "229         John\n",
       "230    Elisabeth\n",
       "237         John\n",
       "242         John\n",
       "244         John\n",
       "251         John\n",
       "262      Rebecca\n",
       "277         John\n",
       "282        Sandy\n",
       "325         Sara\n",
       "332         Abel\n",
       "341      Fatimah\n",
       "365       Robert\n",
       "375        Sofia\n",
       "386      Sargent\n",
       "394         Anja\n",
       "403       Robert\n",
       "417       Xiuxiu\n",
       "433          Leo\n",
       "440        David\n",
       "470     Muhammad\n",
       "472        Julia\n",
       "481      Michael\n",
       "496    Alexander\n",
       "498      Mustafa\n",
       "Name: given_name, dtype: object"
      ]
     },
     "execution_count": 28,
     "metadata": {},
     "output_type": "execute_result"
    }
   ],
   "source": [
    "# check duplicates name\n",
    "patients[patients.given_name.duplicated()].given_name"
   ]
  },
  {
   "cell_type": "code",
   "execution_count": 29,
   "metadata": {},
   "outputs": [
    {
     "data": {
      "text/plain": [
       "210     48.8\n",
       "459    102.1\n",
       "335    102.7\n",
       "74     103.2\n",
       "317    106.0\n",
       "       ...  \n",
       "144    244.9\n",
       "61     244.9\n",
       "283    245.5\n",
       "118    254.5\n",
       "485    255.9\n",
       "Name: weight, Length: 503, dtype: float64"
      ]
     },
     "execution_count": 29,
     "metadata": {},
     "output_type": "execute_result"
    }
   ],
   "source": [
    "patients.weight.sort_values()"
   ]
  },
  {
   "cell_type": "code",
   "execution_count": 30,
   "metadata": {},
   "outputs": [
    {
     "data": {
      "text/plain": [
       "0"
      ]
     },
     "execution_count": 30,
     "metadata": {},
     "output_type": "execute_result"
    }
   ],
   "source": [
    "sum(treatments.auralin.isnull())"
   ]
  },
  {
   "cell_type": "code",
   "execution_count": 31,
   "metadata": {},
   "outputs": [
    {
     "data": {
      "text/plain": [
       "0"
      ]
     },
     "execution_count": 31,
     "metadata": {},
     "output_type": "execute_result"
    }
   ],
   "source": [
    "sum(treatments.novodra.isnull())"
   ]
  },
  {
   "cell_type": "code",
   "execution_count": 32,
   "metadata": {},
   "outputs": [
    {
     "data": {
      "text/plain": [
       "-            143\n",
       "31u - 38u      3\n",
       "29u - 37u      3\n",
       "32u - 42u      2\n",
       "42u - 49u      2\n",
       "            ... \n",
       "53u - 64u      1\n",
       "25u - 31u      1\n",
       "39u - 45u      1\n",
       "31u - 45u      1\n",
       "53u - 56u      1\n",
       "Name: auralin, Length: 121, dtype: int64"
      ]
     },
     "execution_count": 32,
     "metadata": {},
     "output_type": "execute_result"
    }
   ],
   "source": [
    "treatments.auralin.value_counts()"
   ]
  },
  {
   "cell_type": "code",
   "execution_count": 33,
   "metadata": {},
   "outputs": [
    {
     "data": {
      "text/plain": [
       "18"
      ]
     },
     "execution_count": 33,
     "metadata": {},
     "output_type": "execute_result"
    }
   ],
   "source": [
    "# count number of records where patient from new york\n",
    "len(patients.loc[patients['city'] == 'New York'])"
   ]
  },
  {
   "cell_type": "code",
   "execution_count": 34,
   "metadata": {},
   "outputs": [
    {
     "data": {
      "text/html": [
       "<div>\n",
       "<style scoped>\n",
       "    .dataframe tbody tr th:only-of-type {\n",
       "        vertical-align: middle;\n",
       "    }\n",
       "\n",
       "    .dataframe tbody tr th {\n",
       "        vertical-align: top;\n",
       "    }\n",
       "\n",
       "    .dataframe thead th {\n",
       "        text-align: right;\n",
       "    }\n",
       "</style>\n",
       "<table border=\"1\" class=\"dataframe\">\n",
       "  <thead>\n",
       "    <tr style=\"text-align: right;\">\n",
       "      <th></th>\n",
       "      <th>given_name</th>\n",
       "      <th>surname</th>\n",
       "      <th>address</th>\n",
       "      <th>city</th>\n",
       "    </tr>\n",
       "  </thead>\n",
       "  <tbody>\n",
       "    <tr>\n",
       "      <th>0</th>\n",
       "      <td>Zoe</td>\n",
       "      <td>Wellish</td>\n",
       "      <td>576 Brown Bear Drive</td>\n",
       "      <td>Rancho California</td>\n",
       "    </tr>\n",
       "    <tr>\n",
       "      <th>1</th>\n",
       "      <td>Pamela</td>\n",
       "      <td>Hill</td>\n",
       "      <td>2370 University Hill Road</td>\n",
       "      <td>Armstrong</td>\n",
       "    </tr>\n",
       "    <tr>\n",
       "      <th>2</th>\n",
       "      <td>Jae</td>\n",
       "      <td>Debord</td>\n",
       "      <td>1493 Poling Farm Road</td>\n",
       "      <td>York</td>\n",
       "    </tr>\n",
       "    <tr>\n",
       "      <th>3</th>\n",
       "      <td>Liêm</td>\n",
       "      <td>Phan</td>\n",
       "      <td>2335 Webster Street</td>\n",
       "      <td>Woodbridge</td>\n",
       "    </tr>\n",
       "    <tr>\n",
       "      <th>4</th>\n",
       "      <td>Tim</td>\n",
       "      <td>Neudorf</td>\n",
       "      <td>1428 Turkey Pen Lane</td>\n",
       "      <td>Dothan</td>\n",
       "    </tr>\n",
       "    <tr>\n",
       "      <th>...</th>\n",
       "      <td>...</td>\n",
       "      <td>...</td>\n",
       "      <td>...</td>\n",
       "      <td>...</td>\n",
       "    </tr>\n",
       "    <tr>\n",
       "      <th>498</th>\n",
       "      <td>Mustafa</td>\n",
       "      <td>Lindström</td>\n",
       "      <td>2530 Victoria Court</td>\n",
       "      <td>Milton Mills</td>\n",
       "    </tr>\n",
       "    <tr>\n",
       "      <th>499</th>\n",
       "      <td>Ruman</td>\n",
       "      <td>Bisliev</td>\n",
       "      <td>494 Clarksburg Park Road</td>\n",
       "      <td>Sedona</td>\n",
       "    </tr>\n",
       "    <tr>\n",
       "      <th>500</th>\n",
       "      <td>Jinke</td>\n",
       "      <td>de Keizer</td>\n",
       "      <td>649 Nutter Street</td>\n",
       "      <td>Overland Park</td>\n",
       "    </tr>\n",
       "    <tr>\n",
       "      <th>501</th>\n",
       "      <td>Chidalu</td>\n",
       "      <td>Onyekaozulu</td>\n",
       "      <td>3652 Boone Crockett Lane</td>\n",
       "      <td>Seattle</td>\n",
       "    </tr>\n",
       "    <tr>\n",
       "      <th>502</th>\n",
       "      <td>Pat</td>\n",
       "      <td>Gersten</td>\n",
       "      <td>2778 North Avenue</td>\n",
       "      <td>Burr</td>\n",
       "    </tr>\n",
       "  </tbody>\n",
       "</table>\n",
       "<p>503 rows × 4 columns</p>\n",
       "</div>"
      ],
      "text/plain": [
       "    given_name      surname                    address               city\n",
       "0          Zoe      Wellish       576 Brown Bear Drive  Rancho California\n",
       "1       Pamela         Hill  2370 University Hill Road          Armstrong\n",
       "2          Jae       Debord      1493 Poling Farm Road               York\n",
       "3         Liêm         Phan        2335 Webster Street         Woodbridge\n",
       "4          Tim      Neudorf       1428 Turkey Pen Lane             Dothan\n",
       "..         ...          ...                        ...                ...\n",
       "498    Mustafa    Lindström        2530 Victoria Court       Milton Mills\n",
       "499      Ruman      Bisliev   494 Clarksburg Park Road             Sedona\n",
       "500      Jinke    de Keizer          649 Nutter Street      Overland Park\n",
       "501    Chidalu  Onyekaozulu   3652 Boone Crockett Lane            Seattle\n",
       "502        Pat      Gersten          2778 North Avenue               Burr\n",
       "\n",
       "[503 rows x 4 columns]"
      ]
     },
     "execution_count": 34,
     "metadata": {},
     "output_type": "execute_result"
    }
   ],
   "source": [
    "patients.loc[:,'given_name':'city']"
   ]
  },
  {
   "cell_type": "code",
   "execution_count": 35,
   "metadata": {},
   "outputs": [
    {
     "data": {
      "text/html": [
       "<div>\n",
       "<style scoped>\n",
       "    .dataframe tbody tr th:only-of-type {\n",
       "        vertical-align: middle;\n",
       "    }\n",
       "\n",
       "    .dataframe tbody tr th {\n",
       "        vertical-align: top;\n",
       "    }\n",
       "\n",
       "    .dataframe thead th {\n",
       "        text-align: right;\n",
       "    }\n",
       "</style>\n",
       "<table border=\"1\" class=\"dataframe\">\n",
       "  <thead>\n",
       "    <tr style=\"text-align: right;\">\n",
       "      <th></th>\n",
       "      <th>patient_id</th>\n",
       "      <th>assigned_sex</th>\n",
       "      <th>given_name</th>\n",
       "      <th>surname</th>\n",
       "      <th>address</th>\n",
       "      <th>city</th>\n",
       "      <th>state</th>\n",
       "      <th>zip_code</th>\n",
       "      <th>country</th>\n",
       "      <th>contact</th>\n",
       "    </tr>\n",
       "  </thead>\n",
       "  <tbody>\n",
       "    <tr>\n",
       "      <th>0</th>\n",
       "      <td>1</td>\n",
       "      <td>female</td>\n",
       "      <td>Zoe</td>\n",
       "      <td>Wellish</td>\n",
       "      <td>576 Brown Bear Drive</td>\n",
       "      <td>Rancho California</td>\n",
       "      <td>California</td>\n",
       "      <td>92390.0</td>\n",
       "      <td>United States</td>\n",
       "      <td>951-719-9170ZoeWellish@superrito.com</td>\n",
       "    </tr>\n",
       "    <tr>\n",
       "      <th>1</th>\n",
       "      <td>2</td>\n",
       "      <td>female</td>\n",
       "      <td>Pamela</td>\n",
       "      <td>Hill</td>\n",
       "      <td>2370 University Hill Road</td>\n",
       "      <td>Armstrong</td>\n",
       "      <td>Illinois</td>\n",
       "      <td>61812.0</td>\n",
       "      <td>United States</td>\n",
       "      <td>PamelaSHill@cuvox.de+1 (217) 569-3204</td>\n",
       "    </tr>\n",
       "    <tr>\n",
       "      <th>2</th>\n",
       "      <td>3</td>\n",
       "      <td>male</td>\n",
       "      <td>Jae</td>\n",
       "      <td>Debord</td>\n",
       "      <td>1493 Poling Farm Road</td>\n",
       "      <td>York</td>\n",
       "      <td>Nebraska</td>\n",
       "      <td>68467.0</td>\n",
       "      <td>United States</td>\n",
       "      <td>402-363-6804JaeMDebord@gustr.com</td>\n",
       "    </tr>\n",
       "    <tr>\n",
       "      <th>3</th>\n",
       "      <td>4</td>\n",
       "      <td>male</td>\n",
       "      <td>Liêm</td>\n",
       "      <td>Phan</td>\n",
       "      <td>2335 Webster Street</td>\n",
       "      <td>Woodbridge</td>\n",
       "      <td>NJ</td>\n",
       "      <td>7095.0</td>\n",
       "      <td>United States</td>\n",
       "      <td>PhanBaLiem@jourrapide.com+1 (732) 636-8246</td>\n",
       "    </tr>\n",
       "    <tr>\n",
       "      <th>4</th>\n",
       "      <td>5</td>\n",
       "      <td>male</td>\n",
       "      <td>Tim</td>\n",
       "      <td>Neudorf</td>\n",
       "      <td>1428 Turkey Pen Lane</td>\n",
       "      <td>Dothan</td>\n",
       "      <td>AL</td>\n",
       "      <td>36303.0</td>\n",
       "      <td>United States</td>\n",
       "      <td>334-515-7487TimNeudorf@cuvox.de</td>\n",
       "    </tr>\n",
       "    <tr>\n",
       "      <th>...</th>\n",
       "      <td>...</td>\n",
       "      <td>...</td>\n",
       "      <td>...</td>\n",
       "      <td>...</td>\n",
       "      <td>...</td>\n",
       "      <td>...</td>\n",
       "      <td>...</td>\n",
       "      <td>...</td>\n",
       "      <td>...</td>\n",
       "      <td>...</td>\n",
       "    </tr>\n",
       "    <tr>\n",
       "      <th>498</th>\n",
       "      <td>499</td>\n",
       "      <td>male</td>\n",
       "      <td>Mustafa</td>\n",
       "      <td>Lindström</td>\n",
       "      <td>2530 Victoria Court</td>\n",
       "      <td>Milton Mills</td>\n",
       "      <td>ME</td>\n",
       "      <td>3852.0</td>\n",
       "      <td>United States</td>\n",
       "      <td>207-477-0579MustafaLindstrom@jourrapide.com</td>\n",
       "    </tr>\n",
       "    <tr>\n",
       "      <th>499</th>\n",
       "      <td>500</td>\n",
       "      <td>male</td>\n",
       "      <td>Ruman</td>\n",
       "      <td>Bisliev</td>\n",
       "      <td>494 Clarksburg Park Road</td>\n",
       "      <td>Sedona</td>\n",
       "      <td>AZ</td>\n",
       "      <td>86341.0</td>\n",
       "      <td>United States</td>\n",
       "      <td>928-284-4492RumanBisliev@gustr.com</td>\n",
       "    </tr>\n",
       "    <tr>\n",
       "      <th>500</th>\n",
       "      <td>501</td>\n",
       "      <td>female</td>\n",
       "      <td>Jinke</td>\n",
       "      <td>de Keizer</td>\n",
       "      <td>649 Nutter Street</td>\n",
       "      <td>Overland Park</td>\n",
       "      <td>MO</td>\n",
       "      <td>64110.0</td>\n",
       "      <td>United States</td>\n",
       "      <td>816-223-6007JinkedeKeizer@teleworm.us</td>\n",
       "    </tr>\n",
       "    <tr>\n",
       "      <th>501</th>\n",
       "      <td>502</td>\n",
       "      <td>female</td>\n",
       "      <td>Chidalu</td>\n",
       "      <td>Onyekaozulu</td>\n",
       "      <td>3652 Boone Crockett Lane</td>\n",
       "      <td>Seattle</td>\n",
       "      <td>WA</td>\n",
       "      <td>98109.0</td>\n",
       "      <td>United States</td>\n",
       "      <td>ChidaluOnyekaozulu@jourrapide.com1 360 443 2060</td>\n",
       "    </tr>\n",
       "    <tr>\n",
       "      <th>502</th>\n",
       "      <td>503</td>\n",
       "      <td>male</td>\n",
       "      <td>Pat</td>\n",
       "      <td>Gersten</td>\n",
       "      <td>2778 North Avenue</td>\n",
       "      <td>Burr</td>\n",
       "      <td>Nebraska</td>\n",
       "      <td>68324.0</td>\n",
       "      <td>United States</td>\n",
       "      <td>PatrickGersten@rhyta.com402-848-4923</td>\n",
       "    </tr>\n",
       "  </tbody>\n",
       "</table>\n",
       "<p>503 rows × 10 columns</p>\n",
       "</div>"
      ],
      "text/plain": [
       "     patient_id assigned_sex given_name      surname  \\\n",
       "0             1       female        Zoe      Wellish   \n",
       "1             2       female     Pamela         Hill   \n",
       "2             3         male        Jae       Debord   \n",
       "3             4         male       Liêm         Phan   \n",
       "4             5         male        Tim      Neudorf   \n",
       "..          ...          ...        ...          ...   \n",
       "498         499         male    Mustafa    Lindström   \n",
       "499         500         male      Ruman      Bisliev   \n",
       "500         501       female      Jinke    de Keizer   \n",
       "501         502       female    Chidalu  Onyekaozulu   \n",
       "502         503         male        Pat      Gersten   \n",
       "\n",
       "                       address               city       state  zip_code  \\\n",
       "0         576 Brown Bear Drive  Rancho California  California   92390.0   \n",
       "1    2370 University Hill Road          Armstrong    Illinois   61812.0   \n",
       "2        1493 Poling Farm Road               York    Nebraska   68467.0   \n",
       "3          2335 Webster Street         Woodbridge          NJ    7095.0   \n",
       "4         1428 Turkey Pen Lane             Dothan          AL   36303.0   \n",
       "..                         ...                ...         ...       ...   \n",
       "498        2530 Victoria Court       Milton Mills          ME    3852.0   \n",
       "499   494 Clarksburg Park Road             Sedona          AZ   86341.0   \n",
       "500          649 Nutter Street      Overland Park          MO   64110.0   \n",
       "501   3652 Boone Crockett Lane            Seattle          WA   98109.0   \n",
       "502          2778 North Avenue               Burr    Nebraska   68324.0   \n",
       "\n",
       "           country                                          contact  \n",
       "0    United States             951-719-9170ZoeWellish@superrito.com  \n",
       "1    United States            PamelaSHill@cuvox.de+1 (217) 569-3204  \n",
       "2    United States                 402-363-6804JaeMDebord@gustr.com  \n",
       "3    United States       PhanBaLiem@jourrapide.com+1 (732) 636-8246  \n",
       "4    United States                  334-515-7487TimNeudorf@cuvox.de  \n",
       "..             ...                                              ...  \n",
       "498  United States      207-477-0579MustafaLindstrom@jourrapide.com  \n",
       "499  United States               928-284-4492RumanBisliev@gustr.com  \n",
       "500  United States            816-223-6007JinkedeKeizer@teleworm.us  \n",
       "501  United States  ChidaluOnyekaozulu@jourrapide.com1 360 443 2060  \n",
       "502  United States             PatrickGersten@rhyta.com402-848-4923  \n",
       "\n",
       "[503 rows x 10 columns]"
      ]
     },
     "execution_count": 35,
     "metadata": {},
     "output_type": "execute_result"
    }
   ],
   "source": [
    "patients.iloc[:,:10]"
   ]
  },
  {
   "cell_type": "code",
   "execution_count": 36,
   "metadata": {},
   "outputs": [
    {
     "data": {
      "text/html": [
       "<div>\n",
       "<style scoped>\n",
       "    .dataframe tbody tr th:only-of-type {\n",
       "        vertical-align: middle;\n",
       "    }\n",
       "\n",
       "    .dataframe tbody tr th {\n",
       "        vertical-align: top;\n",
       "    }\n",
       "\n",
       "    .dataframe thead th {\n",
       "        text-align: right;\n",
       "    }\n",
       "</style>\n",
       "<table border=\"1\" class=\"dataframe\">\n",
       "  <thead>\n",
       "    <tr style=\"text-align: right;\">\n",
       "      <th></th>\n",
       "      <th>patient_id</th>\n",
       "      <th>assigned_sex</th>\n",
       "      <th>patient_id</th>\n",
       "      <th>assigned_sex</th>\n",
       "      <th>given_name</th>\n",
       "      <th>surname</th>\n",
       "      <th>address</th>\n",
       "      <th>city</th>\n",
       "      <th>state</th>\n",
       "      <th>zip_code</th>\n",
       "      <th>country</th>\n",
       "      <th>contact</th>\n",
       "      <th>birthdate</th>\n",
       "      <th>weight</th>\n",
       "    </tr>\n",
       "  </thead>\n",
       "  <tbody>\n",
       "    <tr>\n",
       "      <th>0</th>\n",
       "      <td>1</td>\n",
       "      <td>female</td>\n",
       "      <td>1</td>\n",
       "      <td>female</td>\n",
       "      <td>Zoe</td>\n",
       "      <td>Wellish</td>\n",
       "      <td>576 Brown Bear Drive</td>\n",
       "      <td>Rancho California</td>\n",
       "      <td>California</td>\n",
       "      <td>92390.0</td>\n",
       "      <td>United States</td>\n",
       "      <td>951-719-9170ZoeWellish@superrito.com</td>\n",
       "      <td>1976-07-10</td>\n",
       "      <td>121.7</td>\n",
       "    </tr>\n",
       "    <tr>\n",
       "      <th>1</th>\n",
       "      <td>2</td>\n",
       "      <td>female</td>\n",
       "      <td>2</td>\n",
       "      <td>female</td>\n",
       "      <td>Pamela</td>\n",
       "      <td>Hill</td>\n",
       "      <td>2370 University Hill Road</td>\n",
       "      <td>Armstrong</td>\n",
       "      <td>Illinois</td>\n",
       "      <td>61812.0</td>\n",
       "      <td>United States</td>\n",
       "      <td>PamelaSHill@cuvox.de+1 (217) 569-3204</td>\n",
       "      <td>1967-04-03</td>\n",
       "      <td>118.8</td>\n",
       "    </tr>\n",
       "    <tr>\n",
       "      <th>2</th>\n",
       "      <td>3</td>\n",
       "      <td>male</td>\n",
       "      <td>3</td>\n",
       "      <td>male</td>\n",
       "      <td>Jae</td>\n",
       "      <td>Debord</td>\n",
       "      <td>1493 Poling Farm Road</td>\n",
       "      <td>York</td>\n",
       "      <td>Nebraska</td>\n",
       "      <td>68467.0</td>\n",
       "      <td>United States</td>\n",
       "      <td>402-363-6804JaeMDebord@gustr.com</td>\n",
       "      <td>1980-02-19</td>\n",
       "      <td>177.8</td>\n",
       "    </tr>\n",
       "    <tr>\n",
       "      <th>3</th>\n",
       "      <td>4</td>\n",
       "      <td>male</td>\n",
       "      <td>4</td>\n",
       "      <td>male</td>\n",
       "      <td>Liêm</td>\n",
       "      <td>Phan</td>\n",
       "      <td>2335 Webster Street</td>\n",
       "      <td>Woodbridge</td>\n",
       "      <td>NJ</td>\n",
       "      <td>7095.0</td>\n",
       "      <td>United States</td>\n",
       "      <td>PhanBaLiem@jourrapide.com+1 (732) 636-8246</td>\n",
       "      <td>1951-07-26</td>\n",
       "      <td>220.9</td>\n",
       "    </tr>\n",
       "    <tr>\n",
       "      <th>4</th>\n",
       "      <td>5</td>\n",
       "      <td>male</td>\n",
       "      <td>5</td>\n",
       "      <td>male</td>\n",
       "      <td>Tim</td>\n",
       "      <td>Neudorf</td>\n",
       "      <td>1428 Turkey Pen Lane</td>\n",
       "      <td>Dothan</td>\n",
       "      <td>AL</td>\n",
       "      <td>36303.0</td>\n",
       "      <td>United States</td>\n",
       "      <td>334-515-7487TimNeudorf@cuvox.de</td>\n",
       "      <td>1928-02-18</td>\n",
       "      <td>192.3</td>\n",
       "    </tr>\n",
       "  </tbody>\n",
       "</table>\n",
       "</div>"
      ],
      "text/plain": [
       "   patient_id assigned_sex  patient_id assigned_sex given_name  surname  \\\n",
       "0           1       female           1       female        Zoe  Wellish   \n",
       "1           2       female           2       female     Pamela     Hill   \n",
       "2           3         male           3         male        Jae   Debord   \n",
       "3           4         male           4         male       Liêm     Phan   \n",
       "4           5         male           5         male        Tim  Neudorf   \n",
       "\n",
       "                     address               city       state  zip_code  \\\n",
       "0       576 Brown Bear Drive  Rancho California  California   92390.0   \n",
       "1  2370 University Hill Road          Armstrong    Illinois   61812.0   \n",
       "2      1493 Poling Farm Road               York    Nebraska   68467.0   \n",
       "3        2335 Webster Street         Woodbridge          NJ    7095.0   \n",
       "4       1428 Turkey Pen Lane             Dothan          AL   36303.0   \n",
       "\n",
       "         country                                     contact  birthdate  \\\n",
       "0  United States        951-719-9170ZoeWellish@superrito.com 1976-07-10   \n",
       "1  United States       PamelaSHill@cuvox.de+1 (217) 569-3204 1967-04-03   \n",
       "2  United States            402-363-6804JaeMDebord@gustr.com 1980-02-19   \n",
       "3  United States  PhanBaLiem@jourrapide.com+1 (732) 636-8246 1951-07-26   \n",
       "4  United States             334-515-7487TimNeudorf@cuvox.de 1928-02-18   \n",
       "\n",
       "   weight  \n",
       "0   121.7  \n",
       "1   118.8  \n",
       "2   177.8  \n",
       "3   220.9  \n",
       "4   192.3  "
      ]
     },
     "execution_count": 36,
     "metadata": {},
     "output_type": "execute_result"
    }
   ],
   "source": [
    "import numpy as np\n",
    "# create the standard errors dataframe\n",
    "df_SE = patients.iloc[:, np.r_[:2, 12:]]\n",
    "df_SE.head()"
   ]
  },
  {
   "cell_type": "code",
   "execution_count": 37,
   "metadata": {},
   "outputs": [
    {
     "data": {
      "text/plain": [
       "6"
      ]
     },
     "execution_count": 37,
     "metadata": {},
     "output_type": "execute_result"
    }
   ],
   "source": [
    "# duplicated surname\n",
    "patients[patients['surname']=='Doe'].surname.count()"
   ]
  },
  {
   "cell_type": "code",
   "execution_count": 38,
   "metadata": {},
   "outputs": [
    {
     "name": "stdout",
     "output_type": "stream",
     "text": [
      "210    19.055827\n",
      "dtype: float64\n"
     ]
    }
   ],
   "source": [
    "# weight of the record with data validity issue\n",
    "weight_lbs = patients[patients.surname == 'Zaitseva'].weight * 2.20462\n",
    "height_in = patients[patients.surname == 'Zaitseva'].height\n",
    "bmi_check = 703 * weight_lbs / ( height_in * height_in )\n",
    "print(bmi_check)"
   ]
  },
  {
   "cell_type": "code",
   "execution_count": 39,
   "metadata": {},
   "outputs": [
    {
     "data": {
      "text/plain": [
       "210    19.1\n",
       "Name: bmi, dtype: float64"
      ]
     },
     "execution_count": 39,
     "metadata": {},
     "output_type": "execute_result"
    }
   ],
   "source": [
    "patients[patients.surname == 'Zaitseva'].bmi"
   ]
  },
  {
   "cell_type": "markdown",
   "metadata": {},
   "source": [
    "### Tidiness issue"
   ]
  },
  {
   "cell_type": "markdown",
   "metadata": {},
   "source": [
    "* Contact column in patients table should be split into phone number & email address\n",
    "* variables in columns of Treatments of table - treatment(auralin & novodra), start dose, end dose\n",
    "* Adverse reaction join with treatments table\n",
    "* Given name and surname columns in patients table duplicated in treatments and adverse_reactions tables"
   ]
  },
  {
   "cell_type": "code",
   "execution_count": 40,
   "metadata": {},
   "outputs": [
    {
     "data": {
      "text/plain": [
       "14    given_name\n",
       "15       surname\n",
       "21    given_name\n",
       "22       surname\n",
       "dtype: object"
      ]
     },
     "execution_count": 40,
     "metadata": {},
     "output_type": "execute_result"
    }
   ],
   "source": [
    "# check duplicated columns across tables as series,combine patients and treatments tables for patient info\n",
    "all_columns = pd.Series(list(patients)+list(treatments)+list(adverse_reactions))\n",
    "all_columns[all_columns.duplicated()==True]"
   ]
  },
  {
   "cell_type": "code",
   "execution_count": 41,
   "metadata": {},
   "outputs": [
    {
     "name": "stdout",
     "output_type": "stream",
     "text": [
      "<class 'pandas.core.frame.DataFrame'>\n",
      "RangeIndex: 503 entries, 0 to 502\n",
      "Data columns (total 14 columns):\n",
      " #   Column        Non-Null Count  Dtype         \n",
      "---  ------        --------------  -----         \n",
      " 0   patient_id    503 non-null    int64         \n",
      " 1   assigned_sex  503 non-null    object        \n",
      " 2   given_name    503 non-null    object        \n",
      " 3   surname       503 non-null    object        \n",
      " 4   address       491 non-null    object        \n",
      " 5   city          491 non-null    object        \n",
      " 6   state         491 non-null    object        \n",
      " 7   zip_code      491 non-null    float64       \n",
      " 8   country       491 non-null    object        \n",
      " 9   contact       491 non-null    object        \n",
      " 10  birthdate     503 non-null    datetime64[ns]\n",
      " 11  weight        503 non-null    float64       \n",
      " 12  height        503 non-null    int64         \n",
      " 13  bmi           503 non-null    float64       \n",
      "dtypes: datetime64[ns](1), float64(3), int64(2), object(8)\n",
      "memory usage: 55.1+ KB\n"
     ]
    }
   ],
   "source": [
    "patients.info()"
   ]
  },
  {
   "cell_type": "markdown",
   "metadata": {},
   "source": [
    "### Cleaning"
   ]
  },
  {
   "cell_type": "code",
   "execution_count": 42,
   "metadata": {},
   "outputs": [],
   "source": [
    "patients_clean = patients.copy()\n",
    "treatments_clean = treatments.copy()\n",
    "adverse_reactions_clean = adverse_reactions.copy()"
   ]
  },
  {
   "cell_type": "code",
   "execution_count": 43,
   "metadata": {},
   "outputs": [
    {
     "data": {
      "text/plain": [
       "0    92390\n",
       "1    61812\n",
       "2    68467\n",
       "3    07095\n",
       "4    36303\n",
       "Name: zip_code, dtype: object"
      ]
     },
     "execution_count": 43,
     "metadata": {},
     "output_type": "execute_result"
    }
   ],
   "source": [
    "# Issue 1  - Define: Convert zip code column's data type from float to string type\n",
    "# convert to string & zero padding to 5 char\n",
    "patients_clean.zip_code = patients_clean.zip_code.astype(str).str[:-2].str.pad(5,fillchar = '0')\n",
    "patients_clean.zip_code.head()"
   ]
  },
  {
   "cell_type": "code",
   "execution_count": 44,
   "metadata": {},
   "outputs": [
    {
     "data": {
      "text/html": [
       "<div>\n",
       "<style scoped>\n",
       "    .dataframe tbody tr th:only-of-type {\n",
       "        vertical-align: middle;\n",
       "    }\n",
       "\n",
       "    .dataframe tbody tr th {\n",
       "        vertical-align: top;\n",
       "    }\n",
       "\n",
       "    .dataframe thead th {\n",
       "        text-align: right;\n",
       "    }\n",
       "</style>\n",
       "<table border=\"1\" class=\"dataframe\">\n",
       "  <thead>\n",
       "    <tr style=\"text-align: right;\">\n",
       "      <th></th>\n",
       "      <th>patient_id</th>\n",
       "      <th>assigned_sex</th>\n",
       "      <th>given_name</th>\n",
       "      <th>surname</th>\n",
       "      <th>address</th>\n",
       "      <th>city</th>\n",
       "      <th>state</th>\n",
       "      <th>zip_code</th>\n",
       "      <th>country</th>\n",
       "      <th>contact</th>\n",
       "      <th>birthdate</th>\n",
       "      <th>weight</th>\n",
       "      <th>height</th>\n",
       "      <th>bmi</th>\n",
       "    </tr>\n",
       "  </thead>\n",
       "  <tbody>\n",
       "    <tr>\n",
       "      <th>29</th>\n",
       "      <td>30</td>\n",
       "      <td>male</td>\n",
       "      <td>Jake</td>\n",
       "      <td>Jakobsen</td>\n",
       "      <td>648 Old Dear Lane</td>\n",
       "      <td>Port Jervis</td>\n",
       "      <td>New York</td>\n",
       "      <td>12771.0</td>\n",
       "      <td>United States</td>\n",
       "      <td>JakobCJakobsen@einrot.com+1 (845) 858-7707</td>\n",
       "      <td>1985-08-01</td>\n",
       "      <td>155.8</td>\n",
       "      <td>67</td>\n",
       "      <td>24.4</td>\n",
       "    </tr>\n",
       "    <tr>\n",
       "      <th>219</th>\n",
       "      <td>220</td>\n",
       "      <td>male</td>\n",
       "      <td>Mỹ</td>\n",
       "      <td>Quynh</td>\n",
       "      <td>NaN</td>\n",
       "      <td>NaN</td>\n",
       "      <td>NaN</td>\n",
       "      <td>NaN</td>\n",
       "      <td>NaN</td>\n",
       "      <td>NaN</td>\n",
       "      <td>1978-04-09</td>\n",
       "      <td>237.8</td>\n",
       "      <td>69</td>\n",
       "      <td>35.1</td>\n",
       "    </tr>\n",
       "    <tr>\n",
       "      <th>229</th>\n",
       "      <td>230</td>\n",
       "      <td>male</td>\n",
       "      <td>John</td>\n",
       "      <td>Doe</td>\n",
       "      <td>123 Main Street</td>\n",
       "      <td>New York</td>\n",
       "      <td>NY</td>\n",
       "      <td>12345.0</td>\n",
       "      <td>United States</td>\n",
       "      <td>johndoe@email.com1234567890</td>\n",
       "      <td>1975-01-01</td>\n",
       "      <td>180.0</td>\n",
       "      <td>72</td>\n",
       "      <td>24.4</td>\n",
       "    </tr>\n",
       "    <tr>\n",
       "      <th>230</th>\n",
       "      <td>231</td>\n",
       "      <td>female</td>\n",
       "      <td>Elisabeth</td>\n",
       "      <td>Knudsen</td>\n",
       "      <td>NaN</td>\n",
       "      <td>NaN</td>\n",
       "      <td>NaN</td>\n",
       "      <td>NaN</td>\n",
       "      <td>NaN</td>\n",
       "      <td>NaN</td>\n",
       "      <td>1976-09-23</td>\n",
       "      <td>165.9</td>\n",
       "      <td>63</td>\n",
       "      <td>29.4</td>\n",
       "    </tr>\n",
       "    <tr>\n",
       "      <th>234</th>\n",
       "      <td>235</td>\n",
       "      <td>female</td>\n",
       "      <td>Martina</td>\n",
       "      <td>Tománková</td>\n",
       "      <td>NaN</td>\n",
       "      <td>NaN</td>\n",
       "      <td>NaN</td>\n",
       "      <td>NaN</td>\n",
       "      <td>NaN</td>\n",
       "      <td>NaN</td>\n",
       "      <td>1936-04-07</td>\n",
       "      <td>199.5</td>\n",
       "      <td>65</td>\n",
       "      <td>33.2</td>\n",
       "    </tr>\n",
       "    <tr>\n",
       "      <th>237</th>\n",
       "      <td>238</td>\n",
       "      <td>male</td>\n",
       "      <td>John</td>\n",
       "      <td>Doe</td>\n",
       "      <td>123 Main Street</td>\n",
       "      <td>New York</td>\n",
       "      <td>NY</td>\n",
       "      <td>12345.0</td>\n",
       "      <td>United States</td>\n",
       "      <td>johndoe@email.com1234567890</td>\n",
       "      <td>1975-01-01</td>\n",
       "      <td>180.0</td>\n",
       "      <td>72</td>\n",
       "      <td>24.4</td>\n",
       "    </tr>\n",
       "    <tr>\n",
       "      <th>242</th>\n",
       "      <td>243</td>\n",
       "      <td>male</td>\n",
       "      <td>John</td>\n",
       "      <td>O'Brian</td>\n",
       "      <td>NaN</td>\n",
       "      <td>NaN</td>\n",
       "      <td>NaN</td>\n",
       "      <td>NaN</td>\n",
       "      <td>NaN</td>\n",
       "      <td>NaN</td>\n",
       "      <td>1957-02-25</td>\n",
       "      <td>205.3</td>\n",
       "      <td>74</td>\n",
       "      <td>26.4</td>\n",
       "    </tr>\n",
       "    <tr>\n",
       "      <th>244</th>\n",
       "      <td>245</td>\n",
       "      <td>male</td>\n",
       "      <td>John</td>\n",
       "      <td>Doe</td>\n",
       "      <td>123 Main Street</td>\n",
       "      <td>New York</td>\n",
       "      <td>NY</td>\n",
       "      <td>12345.0</td>\n",
       "      <td>United States</td>\n",
       "      <td>johndoe@email.com1234567890</td>\n",
       "      <td>1975-01-01</td>\n",
       "      <td>180.0</td>\n",
       "      <td>72</td>\n",
       "      <td>24.4</td>\n",
       "    </tr>\n",
       "    <tr>\n",
       "      <th>249</th>\n",
       "      <td>250</td>\n",
       "      <td>male</td>\n",
       "      <td>Benjamin</td>\n",
       "      <td>Mehler</td>\n",
       "      <td>NaN</td>\n",
       "      <td>NaN</td>\n",
       "      <td>NaN</td>\n",
       "      <td>NaN</td>\n",
       "      <td>NaN</td>\n",
       "      <td>NaN</td>\n",
       "      <td>1951-10-30</td>\n",
       "      <td>146.5</td>\n",
       "      <td>69</td>\n",
       "      <td>21.6</td>\n",
       "    </tr>\n",
       "    <tr>\n",
       "      <th>251</th>\n",
       "      <td>252</td>\n",
       "      <td>male</td>\n",
       "      <td>John</td>\n",
       "      <td>Doe</td>\n",
       "      <td>123 Main Street</td>\n",
       "      <td>New York</td>\n",
       "      <td>NY</td>\n",
       "      <td>12345.0</td>\n",
       "      <td>United States</td>\n",
       "      <td>johndoe@email.com1234567890</td>\n",
       "      <td>1975-01-01</td>\n",
       "      <td>180.0</td>\n",
       "      <td>72</td>\n",
       "      <td>24.4</td>\n",
       "    </tr>\n",
       "    <tr>\n",
       "      <th>257</th>\n",
       "      <td>258</td>\n",
       "      <td>male</td>\n",
       "      <td>Jin</td>\n",
       "      <td>Kung</td>\n",
       "      <td>NaN</td>\n",
       "      <td>NaN</td>\n",
       "      <td>NaN</td>\n",
       "      <td>NaN</td>\n",
       "      <td>NaN</td>\n",
       "      <td>NaN</td>\n",
       "      <td>1995-05-17</td>\n",
       "      <td>231.7</td>\n",
       "      <td>69</td>\n",
       "      <td>34.2</td>\n",
       "    </tr>\n",
       "    <tr>\n",
       "      <th>264</th>\n",
       "      <td>265</td>\n",
       "      <td>female</td>\n",
       "      <td>Wafiyyah</td>\n",
       "      <td>Asfour</td>\n",
       "      <td>NaN</td>\n",
       "      <td>NaN</td>\n",
       "      <td>NaN</td>\n",
       "      <td>NaN</td>\n",
       "      <td>NaN</td>\n",
       "      <td>NaN</td>\n",
       "      <td>1989-11-03</td>\n",
       "      <td>158.6</td>\n",
       "      <td>63</td>\n",
       "      <td>28.1</td>\n",
       "    </tr>\n",
       "    <tr>\n",
       "      <th>269</th>\n",
       "      <td>270</td>\n",
       "      <td>female</td>\n",
       "      <td>Flavia</td>\n",
       "      <td>Fiorentino</td>\n",
       "      <td>NaN</td>\n",
       "      <td>NaN</td>\n",
       "      <td>NaN</td>\n",
       "      <td>NaN</td>\n",
       "      <td>NaN</td>\n",
       "      <td>NaN</td>\n",
       "      <td>1937-10-09</td>\n",
       "      <td>175.2</td>\n",
       "      <td>61</td>\n",
       "      <td>33.1</td>\n",
       "    </tr>\n",
       "    <tr>\n",
       "      <th>277</th>\n",
       "      <td>278</td>\n",
       "      <td>male</td>\n",
       "      <td>John</td>\n",
       "      <td>Doe</td>\n",
       "      <td>123 Main Street</td>\n",
       "      <td>New York</td>\n",
       "      <td>NY</td>\n",
       "      <td>12345.0</td>\n",
       "      <td>United States</td>\n",
       "      <td>johndoe@email.com1234567890</td>\n",
       "      <td>1975-01-01</td>\n",
       "      <td>180.0</td>\n",
       "      <td>72</td>\n",
       "      <td>24.4</td>\n",
       "    </tr>\n",
       "    <tr>\n",
       "      <th>278</th>\n",
       "      <td>279</td>\n",
       "      <td>female</td>\n",
       "      <td>Generosa</td>\n",
       "      <td>Cabán</td>\n",
       "      <td>NaN</td>\n",
       "      <td>NaN</td>\n",
       "      <td>NaN</td>\n",
       "      <td>NaN</td>\n",
       "      <td>NaN</td>\n",
       "      <td>NaN</td>\n",
       "      <td>1962-12-16</td>\n",
       "      <td>124.3</td>\n",
       "      <td>69</td>\n",
       "      <td>18.4</td>\n",
       "    </tr>\n",
       "    <tr>\n",
       "      <th>282</th>\n",
       "      <td>283</td>\n",
       "      <td>female</td>\n",
       "      <td>Sandy</td>\n",
       "      <td>Taylor</td>\n",
       "      <td>2476 Fulton Street</td>\n",
       "      <td>Rainelle</td>\n",
       "      <td>WV</td>\n",
       "      <td>25962.0</td>\n",
       "      <td>United States</td>\n",
       "      <td>304-438-2648SandraCTaylor@dayrep.com</td>\n",
       "      <td>1960-10-23</td>\n",
       "      <td>206.1</td>\n",
       "      <td>64</td>\n",
       "      <td>35.4</td>\n",
       "    </tr>\n",
       "    <tr>\n",
       "      <th>286</th>\n",
       "      <td>287</td>\n",
       "      <td>male</td>\n",
       "      <td>Lewis</td>\n",
       "      <td>Webb</td>\n",
       "      <td>NaN</td>\n",
       "      <td>NaN</td>\n",
       "      <td>NaN</td>\n",
       "      <td>NaN</td>\n",
       "      <td>NaN</td>\n",
       "      <td>NaN</td>\n",
       "      <td>1979-04-01</td>\n",
       "      <td>155.3</td>\n",
       "      <td>68</td>\n",
       "      <td>23.6</td>\n",
       "    </tr>\n",
       "    <tr>\n",
       "      <th>296</th>\n",
       "      <td>297</td>\n",
       "      <td>female</td>\n",
       "      <td>Chỉ</td>\n",
       "      <td>Lâm</td>\n",
       "      <td>NaN</td>\n",
       "      <td>NaN</td>\n",
       "      <td>NaN</td>\n",
       "      <td>NaN</td>\n",
       "      <td>NaN</td>\n",
       "      <td>NaN</td>\n",
       "      <td>1990-05-14</td>\n",
       "      <td>181.1</td>\n",
       "      <td>63</td>\n",
       "      <td>32.1</td>\n",
       "    </tr>\n",
       "    <tr>\n",
       "      <th>502</th>\n",
       "      <td>503</td>\n",
       "      <td>male</td>\n",
       "      <td>Pat</td>\n",
       "      <td>Gersten</td>\n",
       "      <td>2778 North Avenue</td>\n",
       "      <td>Burr</td>\n",
       "      <td>Nebraska</td>\n",
       "      <td>68324.0</td>\n",
       "      <td>United States</td>\n",
       "      <td>PatrickGersten@rhyta.com402-848-4923</td>\n",
       "      <td>1954-05-03</td>\n",
       "      <td>138.2</td>\n",
       "      <td>71</td>\n",
       "      <td>19.3</td>\n",
       "    </tr>\n",
       "  </tbody>\n",
       "</table>\n",
       "</div>"
      ],
      "text/plain": [
       "     patient_id assigned_sex given_name     surname             address  \\\n",
       "29           30         male       Jake    Jakobsen   648 Old Dear Lane   \n",
       "219         220         male         Mỹ       Quynh                 NaN   \n",
       "229         230         male       John         Doe     123 Main Street   \n",
       "230         231       female  Elisabeth     Knudsen                 NaN   \n",
       "234         235       female    Martina   Tománková                 NaN   \n",
       "237         238         male       John         Doe     123 Main Street   \n",
       "242         243         male       John     O'Brian                 NaN   \n",
       "244         245         male       John         Doe     123 Main Street   \n",
       "249         250         male   Benjamin      Mehler                 NaN   \n",
       "251         252         male       John         Doe     123 Main Street   \n",
       "257         258         male        Jin        Kung                 NaN   \n",
       "264         265       female   Wafiyyah      Asfour                 NaN   \n",
       "269         270       female     Flavia  Fiorentino                 NaN   \n",
       "277         278         male       John         Doe     123 Main Street   \n",
       "278         279       female   Generosa       Cabán                 NaN   \n",
       "282         283       female      Sandy      Taylor  2476 Fulton Street   \n",
       "286         287         male      Lewis        Webb                 NaN   \n",
       "296         297       female        Chỉ         Lâm                 NaN   \n",
       "502         503         male        Pat     Gersten   2778 North Avenue   \n",
       "\n",
       "            city     state  zip_code        country  \\\n",
       "29   Port Jervis  New York   12771.0  United States   \n",
       "219          NaN       NaN       NaN            NaN   \n",
       "229     New York        NY   12345.0  United States   \n",
       "230          NaN       NaN       NaN            NaN   \n",
       "234          NaN       NaN       NaN            NaN   \n",
       "237     New York        NY   12345.0  United States   \n",
       "242          NaN       NaN       NaN            NaN   \n",
       "244     New York        NY   12345.0  United States   \n",
       "249          NaN       NaN       NaN            NaN   \n",
       "251     New York        NY   12345.0  United States   \n",
       "257          NaN       NaN       NaN            NaN   \n",
       "264          NaN       NaN       NaN            NaN   \n",
       "269          NaN       NaN       NaN            NaN   \n",
       "277     New York        NY   12345.0  United States   \n",
       "278          NaN       NaN       NaN            NaN   \n",
       "282     Rainelle        WV   25962.0  United States   \n",
       "286          NaN       NaN       NaN            NaN   \n",
       "296          NaN       NaN       NaN            NaN   \n",
       "502         Burr  Nebraska   68324.0  United States   \n",
       "\n",
       "                                        contact  birthdate  weight  height  \\\n",
       "29   JakobCJakobsen@einrot.com+1 (845) 858-7707 1985-08-01   155.8      67   \n",
       "219                                         NaN 1978-04-09   237.8      69   \n",
       "229                 johndoe@email.com1234567890 1975-01-01   180.0      72   \n",
       "230                                         NaN 1976-09-23   165.9      63   \n",
       "234                                         NaN 1936-04-07   199.5      65   \n",
       "237                 johndoe@email.com1234567890 1975-01-01   180.0      72   \n",
       "242                                         NaN 1957-02-25   205.3      74   \n",
       "244                 johndoe@email.com1234567890 1975-01-01   180.0      72   \n",
       "249                                         NaN 1951-10-30   146.5      69   \n",
       "251                 johndoe@email.com1234567890 1975-01-01   180.0      72   \n",
       "257                                         NaN 1995-05-17   231.7      69   \n",
       "264                                         NaN 1989-11-03   158.6      63   \n",
       "269                                         NaN 1937-10-09   175.2      61   \n",
       "277                 johndoe@email.com1234567890 1975-01-01   180.0      72   \n",
       "278                                         NaN 1962-12-16   124.3      69   \n",
       "282        304-438-2648SandraCTaylor@dayrep.com 1960-10-23   206.1      64   \n",
       "286                                         NaN 1979-04-01   155.3      68   \n",
       "296                                         NaN 1990-05-14   181.1      63   \n",
       "502        PatrickGersten@rhyta.com402-848-4923 1954-05-03   138.2      71   \n",
       "\n",
       "      bmi  \n",
       "29   24.4  \n",
       "219  35.1  \n",
       "229  24.4  \n",
       "230  29.4  \n",
       "234  33.2  \n",
       "237  24.4  \n",
       "242  26.4  \n",
       "244  24.4  \n",
       "249  21.6  \n",
       "251  24.4  \n",
       "257  34.2  \n",
       "264  28.1  \n",
       "269  33.1  \n",
       "277  24.4  \n",
       "278  18.4  \n",
       "282  35.4  \n",
       "286  23.6  \n",
       "296  32.1  \n",
       "502  19.3  "
      ]
     },
     "execution_count": 44,
     "metadata": {},
     "output_type": "execute_result"
    }
   ],
   "source": [
    "patients[patients['address'].duplicated()]"
   ]
  },
  {
   "cell_type": "code",
   "execution_count": 45,
   "metadata": {},
   "outputs": [
    {
     "data": {
      "text/html": [
       "<div>\n",
       "<style scoped>\n",
       "    .dataframe tbody tr th:only-of-type {\n",
       "        vertical-align: middle;\n",
       "    }\n",
       "\n",
       "    .dataframe tbody tr th {\n",
       "        vertical-align: top;\n",
       "    }\n",
       "\n",
       "    .dataframe thead th {\n",
       "        text-align: right;\n",
       "    }\n",
       "</style>\n",
       "<table border=\"1\" class=\"dataframe\">\n",
       "  <thead>\n",
       "    <tr style=\"text-align: right;\">\n",
       "      <th></th>\n",
       "      <th>patient_id</th>\n",
       "      <th>assigned_sex</th>\n",
       "      <th>given_name</th>\n",
       "      <th>surname</th>\n",
       "      <th>address</th>\n",
       "      <th>city</th>\n",
       "      <th>state</th>\n",
       "      <th>zip_code</th>\n",
       "      <th>country</th>\n",
       "      <th>contact</th>\n",
       "      <th>birthdate</th>\n",
       "      <th>weight</th>\n",
       "      <th>height</th>\n",
       "      <th>bmi</th>\n",
       "    </tr>\n",
       "  </thead>\n",
       "  <tbody>\n",
       "    <tr>\n",
       "      <th>0</th>\n",
       "      <td>1</td>\n",
       "      <td>female</td>\n",
       "      <td>Zoe</td>\n",
       "      <td>Wellish</td>\n",
       "      <td>576 Brown Bear Drive</td>\n",
       "      <td>Rancho California</td>\n",
       "      <td>California</td>\n",
       "      <td>92390</td>\n",
       "      <td>United States</td>\n",
       "      <td>951-719-9170ZoeWellish@superrito.com</td>\n",
       "      <td>1976-07-10</td>\n",
       "      <td>121.7</td>\n",
       "      <td>66</td>\n",
       "      <td>19.6</td>\n",
       "    </tr>\n",
       "    <tr>\n",
       "      <th>1</th>\n",
       "      <td>2</td>\n",
       "      <td>female</td>\n",
       "      <td>Pamela</td>\n",
       "      <td>Hill</td>\n",
       "      <td>2370 University Hill Road</td>\n",
       "      <td>Armstrong</td>\n",
       "      <td>Illinois</td>\n",
       "      <td>61812</td>\n",
       "      <td>United States</td>\n",
       "      <td>PamelaSHill@cuvox.de+1 (217) 569-3204</td>\n",
       "      <td>1967-04-03</td>\n",
       "      <td>118.8</td>\n",
       "      <td>66</td>\n",
       "      <td>19.2</td>\n",
       "    </tr>\n",
       "    <tr>\n",
       "      <th>2</th>\n",
       "      <td>3</td>\n",
       "      <td>male</td>\n",
       "      <td>Jae</td>\n",
       "      <td>Debord</td>\n",
       "      <td>1493 Poling Farm Road</td>\n",
       "      <td>York</td>\n",
       "      <td>Nebraska</td>\n",
       "      <td>68467</td>\n",
       "      <td>United States</td>\n",
       "      <td>402-363-6804JaeMDebord@gustr.com</td>\n",
       "      <td>1980-02-19</td>\n",
       "      <td>177.8</td>\n",
       "      <td>71</td>\n",
       "      <td>24.8</td>\n",
       "    </tr>\n",
       "    <tr>\n",
       "      <th>3</th>\n",
       "      <td>4</td>\n",
       "      <td>male</td>\n",
       "      <td>Liêm</td>\n",
       "      <td>Phan</td>\n",
       "      <td>2335 Webster Street</td>\n",
       "      <td>Woodbridge</td>\n",
       "      <td>NJ</td>\n",
       "      <td>07095</td>\n",
       "      <td>United States</td>\n",
       "      <td>PhanBaLiem@jourrapide.com+1 (732) 636-8246</td>\n",
       "      <td>1951-07-26</td>\n",
       "      <td>220.9</td>\n",
       "      <td>70</td>\n",
       "      <td>31.7</td>\n",
       "    </tr>\n",
       "    <tr>\n",
       "      <th>4</th>\n",
       "      <td>5</td>\n",
       "      <td>male</td>\n",
       "      <td>Tim</td>\n",
       "      <td>Neudorf</td>\n",
       "      <td>1428 Turkey Pen Lane</td>\n",
       "      <td>Dothan</td>\n",
       "      <td>AL</td>\n",
       "      <td>36303</td>\n",
       "      <td>United States</td>\n",
       "      <td>334-515-7487TimNeudorf@cuvox.de</td>\n",
       "      <td>1928-02-18</td>\n",
       "      <td>192.3</td>\n",
       "      <td>27</td>\n",
       "      <td>26.1</td>\n",
       "    </tr>\n",
       "  </tbody>\n",
       "</table>\n",
       "</div>"
      ],
      "text/plain": [
       "   patient_id assigned_sex given_name  surname                    address  \\\n",
       "0           1       female        Zoe  Wellish       576 Brown Bear Drive   \n",
       "1           2       female     Pamela     Hill  2370 University Hill Road   \n",
       "2           3         male        Jae   Debord      1493 Poling Farm Road   \n",
       "3           4         male       Liêm     Phan        2335 Webster Street   \n",
       "4           5         male        Tim  Neudorf       1428 Turkey Pen Lane   \n",
       "\n",
       "                city       state zip_code        country  \\\n",
       "0  Rancho California  California    92390  United States   \n",
       "1          Armstrong    Illinois    61812  United States   \n",
       "2               York    Nebraska    68467  United States   \n",
       "3         Woodbridge          NJ    07095  United States   \n",
       "4             Dothan          AL    36303  United States   \n",
       "\n",
       "                                      contact  birthdate  weight  height   bmi  \n",
       "0        951-719-9170ZoeWellish@superrito.com 1976-07-10   121.7      66  19.6  \n",
       "1       PamelaSHill@cuvox.de+1 (217) 569-3204 1967-04-03   118.8      66  19.2  \n",
       "2            402-363-6804JaeMDebord@gustr.com 1980-02-19   177.8      71  24.8  \n",
       "3  PhanBaLiem@jourrapide.com+1 (732) 636-8246 1951-07-26   220.9      70  31.7  \n",
       "4             334-515-7487TimNeudorf@cuvox.de 1928-02-18   192.3      27  26.1  "
      ]
     },
     "execution_count": 45,
     "metadata": {},
     "output_type": "execute_result"
    }
   ],
   "source": [
    "patients_clean.head()"
   ]
  },
  {
   "cell_type": "code",
   "execution_count": 46,
   "metadata": {},
   "outputs": [
    {
     "data": {
      "text/html": [
       "<div>\n",
       "<style scoped>\n",
       "    .dataframe tbody tr th:only-of-type {\n",
       "        vertical-align: middle;\n",
       "    }\n",
       "\n",
       "    .dataframe tbody tr th {\n",
       "        vertical-align: top;\n",
       "    }\n",
       "\n",
       "    .dataframe thead th {\n",
       "        text-align: right;\n",
       "    }\n",
       "</style>\n",
       "<table border=\"1\" class=\"dataframe\">\n",
       "  <thead>\n",
       "    <tr style=\"text-align: right;\">\n",
       "      <th></th>\n",
       "      <th>given_name</th>\n",
       "      <th>surname</th>\n",
       "      <th>auralin</th>\n",
       "      <th>novodra</th>\n",
       "      <th>hba1c_start</th>\n",
       "      <th>hba1c_end</th>\n",
       "      <th>hba1c_change</th>\n",
       "    </tr>\n",
       "  </thead>\n",
       "  <tbody>\n",
       "    <tr>\n",
       "      <th>0</th>\n",
       "      <td>jožka</td>\n",
       "      <td>resanovič</td>\n",
       "      <td>22u - 30u</td>\n",
       "      <td>-</td>\n",
       "      <td>7.56</td>\n",
       "      <td>7.22</td>\n",
       "      <td>0.34</td>\n",
       "    </tr>\n",
       "    <tr>\n",
       "      <th>1</th>\n",
       "      <td>inunnguaq</td>\n",
       "      <td>heilmann</td>\n",
       "      <td>57u - 67u</td>\n",
       "      <td>-</td>\n",
       "      <td>7.85</td>\n",
       "      <td>7.45</td>\n",
       "      <td>NaN</td>\n",
       "    </tr>\n",
       "    <tr>\n",
       "      <th>2</th>\n",
       "      <td>alwin</td>\n",
       "      <td>svensson</td>\n",
       "      <td>36u - 39u</td>\n",
       "      <td>-</td>\n",
       "      <td>7.78</td>\n",
       "      <td>7.34</td>\n",
       "      <td>NaN</td>\n",
       "    </tr>\n",
       "    <tr>\n",
       "      <th>3</th>\n",
       "      <td>thể</td>\n",
       "      <td>lương</td>\n",
       "      <td>-</td>\n",
       "      <td>61u - 64u</td>\n",
       "      <td>7.64</td>\n",
       "      <td>7.22</td>\n",
       "      <td>0.92</td>\n",
       "    </tr>\n",
       "    <tr>\n",
       "      <th>4</th>\n",
       "      <td>amanda</td>\n",
       "      <td>ribeiro</td>\n",
       "      <td>36u - 44u</td>\n",
       "      <td>-</td>\n",
       "      <td>7.85</td>\n",
       "      <td>7.47</td>\n",
       "      <td>0.38</td>\n",
       "    </tr>\n",
       "  </tbody>\n",
       "</table>\n",
       "</div>"
      ],
      "text/plain": [
       "  given_name    surname    auralin    novodra  hba1c_start  hba1c_end  \\\n",
       "0      jožka  resanovič  22u - 30u          -         7.56       7.22   \n",
       "1  inunnguaq   heilmann  57u - 67u          -         7.85       7.45   \n",
       "2      alwin   svensson  36u - 39u          -         7.78       7.34   \n",
       "3        thể      lương          -  61u - 64u         7.64       7.22   \n",
       "4     amanda    ribeiro  36u - 44u          -         7.85       7.47   \n",
       "\n",
       "   hba1c_change  \n",
       "0          0.34  \n",
       "1           NaN  \n",
       "2           NaN  \n",
       "3          0.92  \n",
       "4          0.38  "
      ]
     },
     "execution_count": 46,
     "metadata": {},
     "output_type": "execute_result"
    }
   ],
   "source": [
    "# issue 2: missing data\n",
    "# Define: Treatments table Missing records (280 instead of 350)\n",
    "# concatenate treatments_cut with the original treatments DataFrame\n",
    "treatments_cut = pd.read_csv('treatments_cut.csv')\n",
    "treatments_cut.head()"
   ]
  },
  {
   "cell_type": "code",
   "execution_count": 47,
   "metadata": {},
   "outputs": [
    {
     "data": {
      "text/plain": [
       "given_name      350\n",
       "surname         350\n",
       "auralin         350\n",
       "novodra         350\n",
       "hba1c_start     350\n",
       "hba1c_end       350\n",
       "hba1c_change    213\n",
       "dtype: int64"
      ]
     },
     "execution_count": 47,
     "metadata": {},
     "output_type": "execute_result"
    }
   ],
   "source": [
    "treatments_clean = pd.concat([treatments,treatments_cut],ignore_index=True)\n",
    "treatments_clean.count()"
   ]
  },
  {
   "cell_type": "code",
   "execution_count": 48,
   "metadata": {
    "tags": []
   },
   "outputs": [
    {
     "data": {
      "text/plain": [
       "0.39    17\n",
       "0.35    12\n",
       "0.33    12\n",
       "0.38    11\n",
       "0.37    11\n",
       "0.36    10\n",
       "0.92    10\n",
       "0.34     9\n",
       "0.97     8\n",
       "0.93     7\n",
       "0.90     6\n",
       "0.30     6\n",
       "0.32     6\n",
       "0.95     5\n",
       "0.96     5\n",
       "0.31     5\n",
       "0.91     5\n",
       "0.94     4\n",
       "0.51     3\n",
       "0.27     3\n",
       "0.29     3\n",
       "0.99     3\n",
       "0.98     3\n",
       "0.54     1\n",
       "0.28     1\n",
       "0.24     1\n",
       "0.53     1\n",
       "0.26     1\n",
       "0.50     1\n",
       "0.20     1\n",
       "Name: hba1c_change, dtype: int64"
      ]
     },
     "execution_count": 48,
     "metadata": {},
     "output_type": "execute_result"
    }
   ],
   "source": [
    "# issue 3 - treatments: Missing HbA1c changes and inaccurate HbA1c changes (leading 4s mistaken as 9s)\n",
    "treatments.hba1c_change.value_counts()"
   ]
  },
  {
   "cell_type": "code",
   "execution_count": 49,
   "metadata": {},
   "outputs": [],
   "source": [
    "# define: Recalculate the hba1c_change column: hba1c_start minus hba1c_end\n",
    "treatments_clean.hba1c_change = (treatments_clean.hba1c_start - \n",
    "                                 treatments_clean.hba1c_end)"
   ]
  },
  {
   "cell_type": "code",
   "execution_count": 50,
   "metadata": {},
   "outputs": [
    {
     "data": {
      "text/html": [
       "<div>\n",
       "<style scoped>\n",
       "    .dataframe tbody tr th:only-of-type {\n",
       "        vertical-align: middle;\n",
       "    }\n",
       "\n",
       "    .dataframe tbody tr th {\n",
       "        vertical-align: top;\n",
       "    }\n",
       "\n",
       "    .dataframe thead th {\n",
       "        text-align: right;\n",
       "    }\n",
       "</style>\n",
       "<table border=\"1\" class=\"dataframe\">\n",
       "  <thead>\n",
       "    <tr style=\"text-align: right;\">\n",
       "      <th></th>\n",
       "      <th>given_name</th>\n",
       "      <th>surname</th>\n",
       "      <th>auralin</th>\n",
       "      <th>novodra</th>\n",
       "      <th>hba1c_start</th>\n",
       "      <th>hba1c_end</th>\n",
       "      <th>hba1c_change</th>\n",
       "    </tr>\n",
       "  </thead>\n",
       "  <tbody>\n",
       "  </tbody>\n",
       "</table>\n",
       "</div>"
      ],
      "text/plain": [
       "Empty DataFrame\n",
       "Columns: [given_name, surname, auralin, novodra, hba1c_start, hba1c_end, hba1c_change]\n",
       "Index: []"
      ]
     },
     "execution_count": 50,
     "metadata": {},
     "output_type": "execute_result"
    }
   ],
   "source": [
    "treatments_clean[treatments_clean.hba1c_change.isnull()==True]"
   ]
  },
  {
   "cell_type": "code",
   "execution_count": 51,
   "metadata": {},
   "outputs": [
    {
     "data": {
      "text/plain": [
       "350"
      ]
     },
     "execution_count": 51,
     "metadata": {},
     "output_type": "execute_result"
    }
   ],
   "source": [
    "treatments_clean.hba1c_change.count()"
   ]
  },
  {
   "cell_type": "code",
   "execution_count": 52,
   "metadata": {},
   "outputs": [
    {
     "data": {
      "text/plain": [
       "432    KarenJakobsen@jourrapide.com1 979 203 0438\n",
       "116      606-417-4332PhilippZiegler@superrito.com\n",
       "195        985-253-7891LamaraDratchev@teleworm.us\n",
       "466    AndreaBrodahl@armyspy.com+1 (612) 589-1495\n",
       "153     JohnACarreiro@superrito.com1 775 770 7827\n",
       "Name: contact, dtype: object"
      ]
     },
     "execution_count": 52,
     "metadata": {},
     "output_type": "execute_result"
    }
   ],
   "source": [
    "# Tidiness issue 4: Contact column in patients table contains two variables: phone number and email\n",
    "patients_clean.contact.sample(5)"
   ]
  },
  {
   "cell_type": "code",
   "execution_count": 53,
   "metadata": {},
   "outputs": [
    {
     "data": {
      "text/plain": [
       "0           951-719-9170\n",
       "1      +1 (217) 569-3204\n",
       "2           402-363-6804\n",
       "3      +1 (732) 636-8246\n",
       "4           334-515-7487\n",
       "             ...        \n",
       "498         207-477-0579\n",
       "499         928-284-4492\n",
       "500         816-223-6007\n",
       "501         360 443 2060\n",
       "502         402-848-4923\n",
       "Name: phone_number, Length: 503, dtype: object"
      ]
     },
     "execution_count": 53,
     "metadata": {},
     "output_type": "execute_result"
    }
   ],
   "source": [
    "# extract phone number from contact\n",
    "patients_clean['phone_number'] = patients_clean.contact.str.extract('((?:\\+\\d{1,2}\\s)?\\(?\\d{3}\\)?[\\s.-]?\\d{3}[\\s.-]?\\d{4})', expand=True)\n",
    "patients_clean['phone_number']"
   ]
  },
  {
   "cell_type": "code",
   "execution_count": 54,
   "metadata": {},
   "outputs": [],
   "source": [
    "# extract email from contact\n",
    "patients_clean['email'] = patients_clean.contact.str.extract('([a-zA-Z][a-zA-Z0-9_.+-]+@[a-zA-Z0-9-]+\\.[a-zA-Z0-9-.]+[a-zA-Z])', expand=True)"
   ]
  },
  {
   "cell_type": "code",
   "execution_count": 55,
   "metadata": {},
   "outputs": [],
   "source": [
    "# drop old contact col\n",
    "patients_clean = patients_clean.drop('contact', axis=1)"
   ]
  },
  {
   "cell_type": "code",
   "execution_count": 56,
   "metadata": {},
   "outputs": [
    {
     "data": {
      "text/plain": [
       "['patient_id',\n",
       " 'assigned_sex',\n",
       " 'given_name',\n",
       " 'surname',\n",
       " 'address',\n",
       " 'city',\n",
       " 'state',\n",
       " 'zip_code',\n",
       " 'country',\n",
       " 'birthdate',\n",
       " 'weight',\n",
       " 'height',\n",
       " 'bmi',\n",
       " 'phone_number',\n",
       " 'email']"
      ]
     },
     "execution_count": 56,
     "metadata": {},
     "output_type": "execute_result"
    }
   ],
   "source": [
    "# list columns\n",
    "list(patients_clean)"
   ]
  },
  {
   "cell_type": "code",
   "execution_count": 57,
   "metadata": {},
   "outputs": [
    {
     "data": {
      "text/html": [
       "<div>\n",
       "<style scoped>\n",
       "    .dataframe tbody tr th:only-of-type {\n",
       "        vertical-align: middle;\n",
       "    }\n",
       "\n",
       "    .dataframe tbody tr th {\n",
       "        vertical-align: top;\n",
       "    }\n",
       "\n",
       "    .dataframe thead th {\n",
       "        text-align: right;\n",
       "    }\n",
       "</style>\n",
       "<table border=\"1\" class=\"dataframe\">\n",
       "  <thead>\n",
       "    <tr style=\"text-align: right;\">\n",
       "      <th></th>\n",
       "      <th>given_name</th>\n",
       "      <th>surname</th>\n",
       "      <th>auralin</th>\n",
       "      <th>novodra</th>\n",
       "      <th>hba1c_start</th>\n",
       "      <th>hba1c_end</th>\n",
       "      <th>hba1c_change</th>\n",
       "    </tr>\n",
       "  </thead>\n",
       "  <tbody>\n",
       "    <tr>\n",
       "      <th>62</th>\n",
       "      <td>hanka</td>\n",
       "      <td>gegič</td>\n",
       "      <td>-</td>\n",
       "      <td>19u - 27u</td>\n",
       "      <td>7.67</td>\n",
       "      <td>7.29</td>\n",
       "      <td>0.38</td>\n",
       "    </tr>\n",
       "    <tr>\n",
       "      <th>128</th>\n",
       "      <td>david</td>\n",
       "      <td>gustafsson</td>\n",
       "      <td>-</td>\n",
       "      <td>33u - 34u</td>\n",
       "      <td>7.72</td>\n",
       "      <td>7.28</td>\n",
       "      <td>0.44</td>\n",
       "    </tr>\n",
       "    <tr>\n",
       "      <th>340</th>\n",
       "      <td>maret</td>\n",
       "      <td>sultygov</td>\n",
       "      <td>-</td>\n",
       "      <td>26u - 23u</td>\n",
       "      <td>7.67</td>\n",
       "      <td>7.30</td>\n",
       "      <td>0.37</td>\n",
       "    </tr>\n",
       "    <tr>\n",
       "      <th>57</th>\n",
       "      <td>klementyna</td>\n",
       "      <td>sokołowska</td>\n",
       "      <td>-</td>\n",
       "      <td>42u - 41u</td>\n",
       "      <td>7.98</td>\n",
       "      <td>7.53</td>\n",
       "      <td>0.45</td>\n",
       "    </tr>\n",
       "    <tr>\n",
       "      <th>175</th>\n",
       "      <td>marina</td>\n",
       "      <td>glockner</td>\n",
       "      <td>35u - 45u</td>\n",
       "      <td>-</td>\n",
       "      <td>7.88</td>\n",
       "      <td>7.55</td>\n",
       "      <td>0.33</td>\n",
       "    </tr>\n",
       "  </tbody>\n",
       "</table>\n",
       "</div>"
      ],
      "text/plain": [
       "     given_name     surname    auralin    novodra  hba1c_start  hba1c_end  \\\n",
       "62        hanka       gegič          -  19u - 27u         7.67       7.29   \n",
       "128       david  gustafsson          -  33u - 34u         7.72       7.28   \n",
       "340       maret    sultygov          -  26u - 23u         7.67       7.30   \n",
       "57   klementyna  sokołowska          -  42u - 41u         7.98       7.53   \n",
       "175      marina    glockner  35u - 45u          -         7.88       7.55   \n",
       "\n",
       "     hba1c_change  \n",
       "62           0.38  \n",
       "128          0.44  \n",
       "340          0.37  \n",
       "57           0.45  \n",
       "175          0.33  "
      ]
     },
     "execution_count": 57,
     "metadata": {},
     "output_type": "execute_result"
    }
   ],
   "source": [
    "# tidiness issue 5:\n",
    "# variables in columns of Treatments of table - treatment(auralin & novodra), start dose, end dose\n",
    "# Melt auralin &  novodra columns to Treatment & Dose column\n",
    "treatments_clean.sample(5)"
   ]
  },
  {
   "cell_type": "code",
   "execution_count": 58,
   "metadata": {},
   "outputs": [
    {
     "data": {
      "text/html": [
       "<div>\n",
       "<style scoped>\n",
       "    .dataframe tbody tr th:only-of-type {\n",
       "        vertical-align: middle;\n",
       "    }\n",
       "\n",
       "    .dataframe tbody tr th {\n",
       "        vertical-align: top;\n",
       "    }\n",
       "\n",
       "    .dataframe thead th {\n",
       "        text-align: right;\n",
       "    }\n",
       "</style>\n",
       "<table border=\"1\" class=\"dataframe\">\n",
       "  <thead>\n",
       "    <tr style=\"text-align: right;\">\n",
       "      <th></th>\n",
       "      <th>given_name</th>\n",
       "      <th>surname</th>\n",
       "      <th>hba1c_start</th>\n",
       "      <th>hba1c_end</th>\n",
       "      <th>hba1c_change</th>\n",
       "      <th>treatment</th>\n",
       "      <th>dose</th>\n",
       "    </tr>\n",
       "  </thead>\n",
       "  <tbody>\n",
       "    <tr>\n",
       "      <th>0</th>\n",
       "      <td>veronika</td>\n",
       "      <td>jindrová</td>\n",
       "      <td>7.63</td>\n",
       "      <td>7.20</td>\n",
       "      <td>0.43</td>\n",
       "      <td>auralin</td>\n",
       "      <td>41u - 48u</td>\n",
       "    </tr>\n",
       "    <tr>\n",
       "      <th>1</th>\n",
       "      <td>elliot</td>\n",
       "      <td>richardson</td>\n",
       "      <td>7.56</td>\n",
       "      <td>7.09</td>\n",
       "      <td>0.47</td>\n",
       "      <td>auralin</td>\n",
       "      <td>-</td>\n",
       "    </tr>\n",
       "    <tr>\n",
       "      <th>2</th>\n",
       "      <td>yukitaka</td>\n",
       "      <td>takenaka</td>\n",
       "      <td>7.68</td>\n",
       "      <td>7.25</td>\n",
       "      <td>0.43</td>\n",
       "      <td>auralin</td>\n",
       "      <td>-</td>\n",
       "    </tr>\n",
       "    <tr>\n",
       "      <th>3</th>\n",
       "      <td>skye</td>\n",
       "      <td>gormanston</td>\n",
       "      <td>7.97</td>\n",
       "      <td>7.62</td>\n",
       "      <td>0.35</td>\n",
       "      <td>auralin</td>\n",
       "      <td>33u - 36u</td>\n",
       "    </tr>\n",
       "    <tr>\n",
       "      <th>4</th>\n",
       "      <td>alissa</td>\n",
       "      <td>montez</td>\n",
       "      <td>7.78</td>\n",
       "      <td>7.46</td>\n",
       "      <td>0.32</td>\n",
       "      <td>auralin</td>\n",
       "      <td>-</td>\n",
       "    </tr>\n",
       "  </tbody>\n",
       "</table>\n",
       "</div>"
      ],
      "text/plain": [
       "  given_name     surname  hba1c_start  hba1c_end  hba1c_change treatment  \\\n",
       "0   veronika    jindrová         7.63       7.20          0.43   auralin   \n",
       "1     elliot  richardson         7.56       7.09          0.47   auralin   \n",
       "2   yukitaka    takenaka         7.68       7.25          0.43   auralin   \n",
       "3       skye  gormanston         7.97       7.62          0.35   auralin   \n",
       "4     alissa      montez         7.78       7.46          0.32   auralin   \n",
       "\n",
       "        dose  \n",
       "0  41u - 48u  \n",
       "1          -  \n",
       "2          -  \n",
       "3  33u - 36u  \n",
       "4          -  "
      ]
     },
     "execution_count": 58,
     "metadata": {},
     "output_type": "execute_result"
    }
   ],
   "source": [
    "treatments_clean = pd.melt(treatments_clean,id_vars=['given_name', 'surname', 'hba1c_start', 'hba1c_end', 'hba1c_change'],\\\n",
    "                           var_name='treatment', value_name='dose',value_vars=['auralin','novodra'])\n",
    "treatments_clean.head()"
   ]
  },
  {
   "cell_type": "code",
   "execution_count": 59,
   "metadata": {},
   "outputs": [
    {
     "data": {
      "text/html": [
       "<div>\n",
       "<style scoped>\n",
       "    .dataframe tbody tr th:only-of-type {\n",
       "        vertical-align: middle;\n",
       "    }\n",
       "\n",
       "    .dataframe tbody tr th {\n",
       "        vertical-align: top;\n",
       "    }\n",
       "\n",
       "    .dataframe thead th {\n",
       "        text-align: right;\n",
       "    }\n",
       "</style>\n",
       "<table border=\"1\" class=\"dataframe\">\n",
       "  <thead>\n",
       "    <tr style=\"text-align: right;\">\n",
       "      <th></th>\n",
       "      <th>given_name</th>\n",
       "      <th>surname</th>\n",
       "      <th>hba1c_start</th>\n",
       "      <th>hba1c_end</th>\n",
       "      <th>hba1c_change</th>\n",
       "      <th>treatment</th>\n",
       "      <th>dose</th>\n",
       "    </tr>\n",
       "  </thead>\n",
       "  <tbody>\n",
       "    <tr>\n",
       "      <th>0</th>\n",
       "      <td>veronika</td>\n",
       "      <td>jindrová</td>\n",
       "      <td>7.63</td>\n",
       "      <td>7.20</td>\n",
       "      <td>0.43</td>\n",
       "      <td>auralin</td>\n",
       "      <td>41u - 48u</td>\n",
       "    </tr>\n",
       "    <tr>\n",
       "      <th>3</th>\n",
       "      <td>skye</td>\n",
       "      <td>gormanston</td>\n",
       "      <td>7.97</td>\n",
       "      <td>7.62</td>\n",
       "      <td>0.35</td>\n",
       "      <td>auralin</td>\n",
       "      <td>33u - 36u</td>\n",
       "    </tr>\n",
       "    <tr>\n",
       "      <th>6</th>\n",
       "      <td>sophia</td>\n",
       "      <td>haugen</td>\n",
       "      <td>7.65</td>\n",
       "      <td>7.27</td>\n",
       "      <td>0.38</td>\n",
       "      <td>auralin</td>\n",
       "      <td>37u - 42u</td>\n",
       "    </tr>\n",
       "    <tr>\n",
       "      <th>7</th>\n",
       "      <td>eddie</td>\n",
       "      <td>archer</td>\n",
       "      <td>7.89</td>\n",
       "      <td>7.55</td>\n",
       "      <td>0.34</td>\n",
       "      <td>auralin</td>\n",
       "      <td>31u - 38u</td>\n",
       "    </tr>\n",
       "    <tr>\n",
       "      <th>9</th>\n",
       "      <td>asia</td>\n",
       "      <td>woźniak</td>\n",
       "      <td>7.76</td>\n",
       "      <td>7.37</td>\n",
       "      <td>0.39</td>\n",
       "      <td>auralin</td>\n",
       "      <td>30u - 36u</td>\n",
       "    </tr>\n",
       "  </tbody>\n",
       "</table>\n",
       "</div>"
      ],
      "text/plain": [
       "  given_name     surname  hba1c_start  hba1c_end  hba1c_change treatment  \\\n",
       "0   veronika    jindrová         7.63       7.20          0.43   auralin   \n",
       "3       skye  gormanston         7.97       7.62          0.35   auralin   \n",
       "6     sophia      haugen         7.65       7.27          0.38   auralin   \n",
       "7      eddie      archer         7.89       7.55          0.34   auralin   \n",
       "9       asia     woźniak         7.76       7.37          0.39   auralin   \n",
       "\n",
       "        dose  \n",
       "0  41u - 48u  \n",
       "3  33u - 36u  \n",
       "6  37u - 42u  \n",
       "7  31u - 38u  \n",
       "9  30u - 36u  "
      ]
     },
     "execution_count": 59,
     "metadata": {},
     "output_type": "execute_result"
    }
   ],
   "source": [
    "# remove row with'-' as dose\n",
    "treatments_clean = treatments_clean[treatments_clean.dose!= \"-\"]\n",
    "treatments_clean.head()"
   ]
  },
  {
   "cell_type": "code",
   "execution_count": 60,
   "metadata": {},
   "outputs": [
    {
     "data": {
      "text/html": [
       "<div>\n",
       "<style scoped>\n",
       "    .dataframe tbody tr th:only-of-type {\n",
       "        vertical-align: middle;\n",
       "    }\n",
       "\n",
       "    .dataframe tbody tr th {\n",
       "        vertical-align: top;\n",
       "    }\n",
       "\n",
       "    .dataframe thead th {\n",
       "        text-align: right;\n",
       "    }\n",
       "</style>\n",
       "<table border=\"1\" class=\"dataframe\">\n",
       "  <thead>\n",
       "    <tr style=\"text-align: right;\">\n",
       "      <th></th>\n",
       "      <th>given_name</th>\n",
       "      <th>surname</th>\n",
       "      <th>hba1c_start</th>\n",
       "      <th>hba1c_end</th>\n",
       "      <th>hba1c_change</th>\n",
       "      <th>treatment</th>\n",
       "      <th>dose_start</th>\n",
       "      <th>dose_end</th>\n",
       "    </tr>\n",
       "  </thead>\n",
       "  <tbody>\n",
       "    <tr>\n",
       "      <th>160</th>\n",
       "      <td>harley</td>\n",
       "      <td>tucker</td>\n",
       "      <td>7.97</td>\n",
       "      <td>7.64</td>\n",
       "      <td>0.33</td>\n",
       "      <td>auralin</td>\n",
       "      <td>47u</td>\n",
       "      <td>57u</td>\n",
       "    </tr>\n",
       "    <tr>\n",
       "      <th>175</th>\n",
       "      <td>marina</td>\n",
       "      <td>glockner</td>\n",
       "      <td>7.88</td>\n",
       "      <td>7.55</td>\n",
       "      <td>0.33</td>\n",
       "      <td>auralin</td>\n",
       "      <td>35u</td>\n",
       "      <td>45u</td>\n",
       "    </tr>\n",
       "    <tr>\n",
       "      <th>162</th>\n",
       "      <td>helen</td>\n",
       "      <td>luwam</td>\n",
       "      <td>7.66</td>\n",
       "      <td>7.19</td>\n",
       "      <td>0.47</td>\n",
       "      <td>auralin</td>\n",
       "      <td>32u</td>\n",
       "      <td>42u</td>\n",
       "    </tr>\n",
       "    <tr>\n",
       "      <th>385</th>\n",
       "      <td>csaba</td>\n",
       "      <td>sági</td>\n",
       "      <td>7.88</td>\n",
       "      <td>7.48</td>\n",
       "      <td>0.40</td>\n",
       "      <td>novodra</td>\n",
       "      <td>35u</td>\n",
       "      <td>29u</td>\n",
       "    </tr>\n",
       "    <tr>\n",
       "      <th>113</th>\n",
       "      <td>kari</td>\n",
       "      <td>laatikainen</td>\n",
       "      <td>7.50</td>\n",
       "      <td>7.11</td>\n",
       "      <td>0.39</td>\n",
       "      <td>auralin</td>\n",
       "      <td>39u</td>\n",
       "      <td>43u</td>\n",
       "    </tr>\n",
       "  </tbody>\n",
       "</table>\n",
       "</div>"
      ],
      "text/plain": [
       "    given_name      surname  hba1c_start  hba1c_end  hba1c_change treatment  \\\n",
       "160     harley       tucker         7.97       7.64          0.33   auralin   \n",
       "175     marina     glockner         7.88       7.55          0.33   auralin   \n",
       "162      helen        luwam         7.66       7.19          0.47   auralin   \n",
       "385      csaba         sági         7.88       7.48          0.40   novodra   \n",
       "113       kari  laatikainen         7.50       7.11          0.39   auralin   \n",
       "\n",
       "    dose_start dose_end  \n",
       "160       47u       57u  \n",
       "175       35u       45u  \n",
       "162       32u       42u  \n",
       "385       35u       29u  \n",
       "113       39u       43u  "
      ]
     },
     "execution_count": 60,
     "metadata": {},
     "output_type": "execute_result"
    }
   ],
   "source": [
    "treatments_clean['dose_start']=treatments_clean['dose'].str.split('-', 1).str[0]\n",
    "treatments_clean['dose_end'] =treatments_clean['dose'].str.split('-', 1).str[1]\n",
    "treatments_clean = treatments_clean.drop('dose', axis=1)\n",
    "treatments_clean.sample(5)"
   ]
  },
  {
   "cell_type": "code",
   "execution_count": 61,
   "metadata": {},
   "outputs": [
    {
     "data": {
      "text/html": [
       "<div>\n",
       "<style scoped>\n",
       "    .dataframe tbody tr th:only-of-type {\n",
       "        vertical-align: middle;\n",
       "    }\n",
       "\n",
       "    .dataframe tbody tr th {\n",
       "        vertical-align: top;\n",
       "    }\n",
       "\n",
       "    .dataframe thead th {\n",
       "        text-align: right;\n",
       "    }\n",
       "</style>\n",
       "<table border=\"1\" class=\"dataframe\">\n",
       "  <thead>\n",
       "    <tr style=\"text-align: right;\">\n",
       "      <th></th>\n",
       "      <th>given_name</th>\n",
       "      <th>surname</th>\n",
       "      <th>hba1c_start</th>\n",
       "      <th>hba1c_end</th>\n",
       "      <th>hba1c_change</th>\n",
       "      <th>treatment</th>\n",
       "      <th>dose_start</th>\n",
       "      <th>dose_end</th>\n",
       "      <th>adverse_reaction</th>\n",
       "    </tr>\n",
       "  </thead>\n",
       "  <tbody>\n",
       "    <tr>\n",
       "      <th>0</th>\n",
       "      <td>joseph</td>\n",
       "      <td>day</td>\n",
       "      <td>7.70</td>\n",
       "      <td>7.19</td>\n",
       "      <td>0.51</td>\n",
       "      <td>auralin</td>\n",
       "      <td>29u</td>\n",
       "      <td>36u</td>\n",
       "      <td>hypoglycemia</td>\n",
       "    </tr>\n",
       "    <tr>\n",
       "      <th>1</th>\n",
       "      <td>joseph</td>\n",
       "      <td>day</td>\n",
       "      <td>7.70</td>\n",
       "      <td>7.19</td>\n",
       "      <td>0.51</td>\n",
       "      <td>auralin</td>\n",
       "      <td>29u</td>\n",
       "      <td>36u</td>\n",
       "      <td>hypoglycemia</td>\n",
       "    </tr>\n",
       "    <tr>\n",
       "      <th>2</th>\n",
       "      <td>clinton</td>\n",
       "      <td>miller</td>\n",
       "      <td>7.79</td>\n",
       "      <td>7.40</td>\n",
       "      <td>0.39</td>\n",
       "      <td>auralin</td>\n",
       "      <td>42u</td>\n",
       "      <td>51u</td>\n",
       "      <td>throat irritation</td>\n",
       "    </tr>\n",
       "    <tr>\n",
       "      <th>3</th>\n",
       "      <td>louise</td>\n",
       "      <td>johnson</td>\n",
       "      <td>7.63</td>\n",
       "      <td>7.32</td>\n",
       "      <td>0.31</td>\n",
       "      <td>auralin</td>\n",
       "      <td>32u</td>\n",
       "      <td>42u</td>\n",
       "      <td>hypoglycemia</td>\n",
       "    </tr>\n",
       "    <tr>\n",
       "      <th>4</th>\n",
       "      <td>finley</td>\n",
       "      <td>chandler</td>\n",
       "      <td>7.65</td>\n",
       "      <td>7.26</td>\n",
       "      <td>0.39</td>\n",
       "      <td>auralin</td>\n",
       "      <td>31u</td>\n",
       "      <td>45u</td>\n",
       "      <td>headache</td>\n",
       "    </tr>\n",
       "  </tbody>\n",
       "</table>\n",
       "</div>"
      ],
      "text/plain": [
       "  given_name   surname  hba1c_start  hba1c_end  hba1c_change treatment  \\\n",
       "0     joseph       day         7.70       7.19          0.51   auralin   \n",
       "1     joseph       day         7.70       7.19          0.51   auralin   \n",
       "2    clinton    miller         7.79       7.40          0.39   auralin   \n",
       "3     louise   johnson         7.63       7.32          0.31   auralin   \n",
       "4     finley  chandler         7.65       7.26          0.39   auralin   \n",
       "\n",
       "  dose_start dose_end   adverse_reaction  \n",
       "0       29u       36u       hypoglycemia  \n",
       "1       29u       36u       hypoglycemia  \n",
       "2       42u       51u  throat irritation  \n",
       "3       32u       42u       hypoglycemia  \n",
       "4       31u       45u           headache  "
      ]
     },
     "execution_count": 61,
     "metadata": {},
     "output_type": "execute_result"
    }
   ],
   "source": [
    "# issue 6: Merge adverse_reaction column to Treatments table, joining on given name & surname\n",
    "treatments_clean = pd.merge(treatments_clean, adverse_reactions_clean,\n",
    "                            on=['given_name', 'surname'], how='inner')\n",
    "treatments_clean.head()"
   ]
  },
  {
   "cell_type": "code",
   "execution_count": 62,
   "metadata": {},
   "outputs": [
    {
     "name": "stderr",
     "output_type": "stream",
     "text": [
      "C:\\Users\\JC\\anaconda3\\lib\\site-packages\\pandas\\core\\generic.py:5516: SettingWithCopyWarning: \n",
      "A value is trying to be set on a copy of a slice from a DataFrame.\n",
      "Try using .loc[row_indexer,col_indexer] = value instead\n",
      "\n",
      "See the caveats in the documentation: https://pandas.pydata.org/pandas-docs/stable/user_guide/indexing.html#returning-a-view-versus-a-copy\n",
      "  self[name] = value\n"
     ]
    },
    {
     "data": {
      "text/plain": [
       "0          zoe\n",
       "1       pamela\n",
       "2          jae\n",
       "3         liêm\n",
       "4          tim\n",
       "        ...   \n",
       "498    mustafa\n",
       "499      ruman\n",
       "500      jinke\n",
       "501    chidalu\n",
       "502        pat\n",
       "Name: given_name, Length: 503, dtype: object"
      ]
     },
     "execution_count": 62,
     "metadata": {},
     "output_type": "execute_result"
    }
   ],
   "source": [
    "# issue 6: Given name and surname columns in patients table duplicated in treatments and adverse_reactions\n",
    "id_names = patients_clean[['patient_id', 'given_name', 'surname']]\n",
    "id_names.given_name = id_names.given_name.str.lower()\n",
    "id_names.surname = id_names.surname.str.lower()\n",
    "id_names.given_name"
   ]
  },
  {
   "cell_type": "code",
   "execution_count": 63,
   "metadata": {},
   "outputs": [
    {
     "data": {
      "text/html": [
       "<div>\n",
       "<style scoped>\n",
       "    .dataframe tbody tr th:only-of-type {\n",
       "        vertical-align: middle;\n",
       "    }\n",
       "\n",
       "    .dataframe tbody tr th {\n",
       "        vertical-align: top;\n",
       "    }\n",
       "\n",
       "    .dataframe thead th {\n",
       "        text-align: right;\n",
       "    }\n",
       "</style>\n",
       "<table border=\"1\" class=\"dataframe\">\n",
       "  <thead>\n",
       "    <tr style=\"text-align: right;\">\n",
       "      <th></th>\n",
       "      <th>patient_id</th>\n",
       "      <th>given_name</th>\n",
       "      <th>surname</th>\n",
       "    </tr>\n",
       "  </thead>\n",
       "  <tbody>\n",
       "    <tr>\n",
       "      <th>0</th>\n",
       "      <td>1</td>\n",
       "      <td>zoe</td>\n",
       "      <td>wellish</td>\n",
       "    </tr>\n",
       "    <tr>\n",
       "      <th>1</th>\n",
       "      <td>2</td>\n",
       "      <td>pamela</td>\n",
       "      <td>hill</td>\n",
       "    </tr>\n",
       "    <tr>\n",
       "      <th>2</th>\n",
       "      <td>3</td>\n",
       "      <td>jae</td>\n",
       "      <td>debord</td>\n",
       "    </tr>\n",
       "    <tr>\n",
       "      <th>3</th>\n",
       "      <td>4</td>\n",
       "      <td>liêm</td>\n",
       "      <td>phan</td>\n",
       "    </tr>\n",
       "    <tr>\n",
       "      <th>4</th>\n",
       "      <td>5</td>\n",
       "      <td>tim</td>\n",
       "      <td>neudorf</td>\n",
       "    </tr>\n",
       "    <tr>\n",
       "      <th>...</th>\n",
       "      <td>...</td>\n",
       "      <td>...</td>\n",
       "      <td>...</td>\n",
       "    </tr>\n",
       "    <tr>\n",
       "      <th>498</th>\n",
       "      <td>499</td>\n",
       "      <td>NaN</td>\n",
       "      <td>lindström</td>\n",
       "    </tr>\n",
       "    <tr>\n",
       "      <th>499</th>\n",
       "      <td>500</td>\n",
       "      <td>ruman</td>\n",
       "      <td>bisliev</td>\n",
       "    </tr>\n",
       "    <tr>\n",
       "      <th>500</th>\n",
       "      <td>501</td>\n",
       "      <td>jinke</td>\n",
       "      <td>de keizer</td>\n",
       "    </tr>\n",
       "    <tr>\n",
       "      <th>501</th>\n",
       "      <td>502</td>\n",
       "      <td>chidalu</td>\n",
       "      <td>onyekaozulu</td>\n",
       "    </tr>\n",
       "    <tr>\n",
       "      <th>502</th>\n",
       "      <td>503</td>\n",
       "      <td>pat</td>\n",
       "      <td>NaN</td>\n",
       "    </tr>\n",
       "  </tbody>\n",
       "</table>\n",
       "<p>503 rows × 3 columns</p>\n",
       "</div>"
      ],
      "text/plain": [
       "     patient_id given_name      surname\n",
       "0             1        zoe      wellish\n",
       "1             2     pamela         hill\n",
       "2             3        jae       debord\n",
       "3             4       liêm         phan\n",
       "4             5        tim      neudorf\n",
       "..          ...        ...          ...\n",
       "498         499        NaN    lindström\n",
       "499         500      ruman      bisliev\n",
       "500         501      jinke    de keizer\n",
       "501         502    chidalu  onyekaozulu\n",
       "502         503        pat          NaN\n",
       "\n",
       "[503 rows x 3 columns]"
      ]
     },
     "execution_count": 63,
     "metadata": {},
     "output_type": "execute_result"
    }
   ],
   "source": [
    "id_names.given_name= id_names.given_name.drop_duplicates()\n",
    "id_names.surname=  id_names.surname.drop_duplicates()\n",
    "id_names"
   ]
  },
  {
   "cell_type": "code",
   "execution_count": 64,
   "metadata": {},
   "outputs": [
    {
     "data": {
      "text/html": [
       "<div>\n",
       "<style scoped>\n",
       "    .dataframe tbody tr th:only-of-type {\n",
       "        vertical-align: middle;\n",
       "    }\n",
       "\n",
       "    .dataframe tbody tr th {\n",
       "        vertical-align: top;\n",
       "    }\n",
       "\n",
       "    .dataframe thead th {\n",
       "        text-align: right;\n",
       "    }\n",
       "</style>\n",
       "<table border=\"1\" class=\"dataframe\">\n",
       "  <thead>\n",
       "    <tr style=\"text-align: right;\">\n",
       "      <th></th>\n",
       "      <th>hba1c_start</th>\n",
       "      <th>hba1c_end</th>\n",
       "      <th>hba1c_change</th>\n",
       "      <th>treatment</th>\n",
       "      <th>dose_start</th>\n",
       "      <th>dose_end</th>\n",
       "      <th>adverse_reaction</th>\n",
       "      <th>patient_id</th>\n",
       "    </tr>\n",
       "  </thead>\n",
       "  <tbody>\n",
       "    <tr>\n",
       "      <th>0</th>\n",
       "      <td>7.79</td>\n",
       "      <td>7.40</td>\n",
       "      <td>0.39</td>\n",
       "      <td>auralin</td>\n",
       "      <td>42u</td>\n",
       "      <td>51u</td>\n",
       "      <td>throat irritation</td>\n",
       "      <td>451</td>\n",
       "    </tr>\n",
       "    <tr>\n",
       "      <th>1</th>\n",
       "      <td>7.63</td>\n",
       "      <td>7.32</td>\n",
       "      <td>0.31</td>\n",
       "      <td>auralin</td>\n",
       "      <td>32u</td>\n",
       "      <td>42u</td>\n",
       "      <td>hypoglycemia</td>\n",
       "      <td>55</td>\n",
       "    </tr>\n",
       "    <tr>\n",
       "      <th>2</th>\n",
       "      <td>7.65</td>\n",
       "      <td>7.26</td>\n",
       "      <td>0.39</td>\n",
       "      <td>auralin</td>\n",
       "      <td>31u</td>\n",
       "      <td>45u</td>\n",
       "      <td>headache</td>\n",
       "      <td>143</td>\n",
       "    </tr>\n",
       "    <tr>\n",
       "      <th>3</th>\n",
       "      <td>8.34</td>\n",
       "      <td>7.90</td>\n",
       "      <td>0.44</td>\n",
       "      <td>auralin</td>\n",
       "      <td>25u</td>\n",
       "      <td>31u</td>\n",
       "      <td>hypoglycemia</td>\n",
       "      <td>460</td>\n",
       "    </tr>\n",
       "    <tr>\n",
       "      <th>4</th>\n",
       "      <td>7.64</td>\n",
       "      <td>7.23</td>\n",
       "      <td>0.41</td>\n",
       "      <td>auralin</td>\n",
       "      <td>32u</td>\n",
       "      <td>41u</td>\n",
       "      <td>hypoglycemia</td>\n",
       "      <td>8</td>\n",
       "    </tr>\n",
       "  </tbody>\n",
       "</table>\n",
       "</div>"
      ],
      "text/plain": [
       "   hba1c_start  hba1c_end  hba1c_change treatment dose_start dose_end  \\\n",
       "0         7.79       7.40          0.39   auralin       42u       51u   \n",
       "1         7.63       7.32          0.31   auralin       32u       42u   \n",
       "2         7.65       7.26          0.39   auralin       31u       45u   \n",
       "3         8.34       7.90          0.44   auralin       25u       31u   \n",
       "4         7.64       7.23          0.41   auralin       32u       41u   \n",
       "\n",
       "    adverse_reaction  patient_id  \n",
       "0  throat irritation         451  \n",
       "1       hypoglycemia          55  \n",
       "2           headache         143  \n",
       "3       hypoglycemia         460  \n",
       "4       hypoglycemia           8  "
      ]
     },
     "execution_count": 64,
     "metadata": {},
     "output_type": "execute_result"
    }
   ],
   "source": [
    "treatments_clean = pd.merge(treatments_clean, id_names, on=['given_name','surname'])\n",
    "treatments_clean = treatments_clean.drop(['given_name', 'surname'], axis=1)\n",
    "treatments_clean.head()"
   ]
  },
  {
   "cell_type": "code",
   "execution_count": 65,
   "metadata": {},
   "outputs": [
    {
     "data": {
      "text/plain": [
       "22    patient_id\n",
       "dtype: object"
      ]
     },
     "execution_count": 65,
     "metadata": {},
     "output_type": "execute_result"
    }
   ],
   "source": [
    "# Patient ID should be the only duplicated column\n",
    "all_columns = pd.Series(list(patients_clean) + list(treatments_clean))\n",
    "all_columns[all_columns.duplicated()]"
   ]
  },
  {
   "cell_type": "code",
   "execution_count": 66,
   "metadata": {
    "tags": []
   },
   "outputs": [],
   "source": [
    "# Quality issues\n",
    "\n",
    "# patients table\n",
    "# zip code is a float not a string\n",
    "# zip code has four digits sometimes\n",
    "# Tim Neudorf height is 27 in instead of 72 in\n",
    "# full state names sometimes, abbreviations other times\n",
    "# Dsvid Gustafsson\n",
    "# Missing demographic information (address - contact columns)\n",
    "# Erroneous datatypes (assigned sex, state, zip_code, and birthdate columns)\n",
    "# Multiple phone number formats\n",
    "# Default John Doe data\n",
    "# Multiple records for Jakobsen, Gersten, Taylor\n",
    "# kgs instead of lbs for Zaitseva weight\n",
    "\n",
    "# treatments table\n",
    "# missing HbA1c changes\n",
    "# the letter u in starting and ending doses for Auralin and Novodra\n",
    "# lowercase given names and surnames\n",
    "# missing records (280 instead of 350)\n",
    "# Erroneous datatypes (auralin and novodra columns)\n",
    "# Inaccurate HbA1c changes (4s mistaken as 9s)\n",
    "# Nulls represented as dashes (-) in auralin and novodra columns\n",
    "\n",
    "# adverse_reactions table\n",
    "# lowercase given names and surnames"
   ]
  },
  {
   "cell_type": "markdown",
   "metadata": {},
   "source": [
    "#### Phase II Clinical trial key metrics"
   ]
  },
  {
   "cell_type": "code",
   "execution_count": 67,
   "metadata": {},
   "outputs": [
    {
     "data": {
      "text/html": [
       "<div>\n",
       "<style scoped>\n",
       "    .dataframe tbody tr th:only-of-type {\n",
       "        vertical-align: middle;\n",
       "    }\n",
       "\n",
       "    .dataframe tbody tr th {\n",
       "        vertical-align: top;\n",
       "    }\n",
       "\n",
       "    .dataframe thead th {\n",
       "        text-align: right;\n",
       "    }\n",
       "</style>\n",
       "<table border=\"1\" class=\"dataframe\">\n",
       "  <thead>\n",
       "    <tr style=\"text-align: right;\">\n",
       "      <th></th>\n",
       "      <th>hba1c_start</th>\n",
       "      <th>hba1c_end</th>\n",
       "      <th>hba1c_change</th>\n",
       "      <th>treatment</th>\n",
       "      <th>dose_start</th>\n",
       "      <th>dose_end</th>\n",
       "      <th>adverse_reaction</th>\n",
       "      <th>patient_id</th>\n",
       "    </tr>\n",
       "  </thead>\n",
       "  <tbody>\n",
       "    <tr>\n",
       "      <th>0</th>\n",
       "      <td>7.79</td>\n",
       "      <td>7.40</td>\n",
       "      <td>0.39</td>\n",
       "      <td>auralin</td>\n",
       "      <td>42u</td>\n",
       "      <td>51u</td>\n",
       "      <td>throat irritation</td>\n",
       "      <td>451</td>\n",
       "    </tr>\n",
       "    <tr>\n",
       "      <th>1</th>\n",
       "      <td>7.63</td>\n",
       "      <td>7.32</td>\n",
       "      <td>0.31</td>\n",
       "      <td>auralin</td>\n",
       "      <td>32u</td>\n",
       "      <td>42u</td>\n",
       "      <td>hypoglycemia</td>\n",
       "      <td>55</td>\n",
       "    </tr>\n",
       "    <tr>\n",
       "      <th>2</th>\n",
       "      <td>7.65</td>\n",
       "      <td>7.26</td>\n",
       "      <td>0.39</td>\n",
       "      <td>auralin</td>\n",
       "      <td>31u</td>\n",
       "      <td>45u</td>\n",
       "      <td>headache</td>\n",
       "      <td>143</td>\n",
       "    </tr>\n",
       "    <tr>\n",
       "      <th>3</th>\n",
       "      <td>8.34</td>\n",
       "      <td>7.90</td>\n",
       "      <td>0.44</td>\n",
       "      <td>auralin</td>\n",
       "      <td>25u</td>\n",
       "      <td>31u</td>\n",
       "      <td>hypoglycemia</td>\n",
       "      <td>460</td>\n",
       "    </tr>\n",
       "    <tr>\n",
       "      <th>4</th>\n",
       "      <td>7.64</td>\n",
       "      <td>7.23</td>\n",
       "      <td>0.41</td>\n",
       "      <td>auralin</td>\n",
       "      <td>32u</td>\n",
       "      <td>41u</td>\n",
       "      <td>hypoglycemia</td>\n",
       "      <td>8</td>\n",
       "    </tr>\n",
       "  </tbody>\n",
       "</table>\n",
       "</div>"
      ],
      "text/plain": [
       "   hba1c_start  hba1c_end  hba1c_change treatment dose_start dose_end  \\\n",
       "0         7.79       7.40          0.39   auralin       42u       51u   \n",
       "1         7.63       7.32          0.31   auralin       32u       42u   \n",
       "2         7.65       7.26          0.39   auralin       31u       45u   \n",
       "3         8.34       7.90          0.44   auralin       25u       31u   \n",
       "4         7.64       7.23          0.41   auralin       32u       41u   \n",
       "\n",
       "    adverse_reaction  patient_id  \n",
       "0  throat irritation         451  \n",
       "1       hypoglycemia          55  \n",
       "2           headache         143  \n",
       "3       hypoglycemia         460  \n",
       "4       hypoglycemia           8  "
      ]
     },
     "execution_count": 67,
     "metadata": {},
     "output_type": "execute_result"
    }
   ],
   "source": [
    "treatments_clean.head()"
   ]
  },
  {
   "cell_type": "code",
   "execution_count": 68,
   "metadata": {},
   "outputs": [
    {
     "data": {
      "text/plain": [
       "hypoglycemia                 18\n",
       "injection site discomfort     5\n",
       "throat irritation             2\n",
       "headache                      2\n",
       "nausea                        2\n",
       "cough                         2\n",
       "Name: adverse_reaction, dtype: int64"
      ]
     },
     "execution_count": 68,
     "metadata": {},
     "output_type": "execute_result"
    }
   ],
   "source": [
    "# metric 1: adverse reactions for the drugs\n",
    "treatments_clean['adverse_reaction'].value_counts()"
   ]
  },
  {
   "cell_type": "code",
   "execution_count": 69,
   "metadata": {},
   "outputs": [
    {
     "data": {
      "text/plain": [
       "treatment  adverse_reaction         \n",
       "auralin    cough                         1\n",
       "           headache                      1\n",
       "           hypoglycemia                  8\n",
       "           nausea                        1\n",
       "           throat irritation             2\n",
       "novodra    cough                         1\n",
       "           headache                      1\n",
       "           hypoglycemia                 10\n",
       "           injection site discomfort     5\n",
       "           nausea                        1\n",
       "Name: adverse_reaction, dtype: int64"
      ]
     },
     "execution_count": 69,
     "metadata": {},
     "output_type": "execute_result"
    }
   ],
   "source": [
    "treatments_clean[['treatment','adverse_reaction']].groupby(['treatment','adverse_reaction']).adverse_reaction.count()"
   ]
  },
  {
   "cell_type": "code",
   "execution_count": 70,
   "metadata": {},
   "outputs": [
    {
     "data": {
      "text/plain": [
       "<AxesSubplot:ylabel='treatment,adverse_reaction'>"
      ]
     },
     "execution_count": 70,
     "metadata": {},
     "output_type": "execute_result"
    },
    {
     "data": {
      "image/png": "[encoded data removed]",
      "text/plain": [
       "<Figure size 432x288 with 1 Axes>"
      ]
     },
     "metadata": {
      "needs_background": "light"
     },
     "output_type": "display_data"
    }
   ],
   "source": [
    "treatments_clean[treatments_clean.treatment=='auralin'].groupby('treatment').adverse_reaction.value_counts().sort_values().plot(kind='barh')"
   ]
  },
  {
   "cell_type": "code",
   "execution_count": 71,
   "metadata": {},
   "outputs": [
    {
     "data": {
      "text/plain": [
       "<AxesSubplot:ylabel='treatment,adverse_reaction'>"
      ]
     },
     "execution_count": 71,
     "metadata": {},
     "output_type": "execute_result"
    },
    {
     "data": {
      "image/png": "[encoded data removed]",
      "text/plain": [
       "<Figure size 432x288 with 1 Axes>"
      ]
     },
     "metadata": {
      "needs_background": "light"
     },
     "output_type": "display_data"
    }
   ],
   "source": [
    "treatments_clean[treatments_clean.treatment=='novodra'].groupby('treatment').adverse_reaction.value_counts().sort_values().plot(kind='barh')"
   ]
  },
  {
   "cell_type": "code",
   "execution_count": 72,
   "metadata": {},
   "outputs": [
    {
     "data": {
      "text/plain": [
       "0      51\n",
       "1      42\n",
       "2      45\n",
       "3      31\n",
       "4      41\n",
       "5      30\n",
       "6      33\n",
       "7      61\n",
       "8      62\n",
       "9      54\n",
       "10     62\n",
       "11     57\n",
       "12     34\n",
       "13     45\n",
       "14     44\n",
       "15     27\n",
       "16     39\n",
       "17     32\n",
       "18     50\n",
       "19     39\n",
       "20     46\n",
       "21     38\n",
       "22     50\n",
       "23     36\n",
       "24     32\n",
       "25     43\n",
       "26     33\n",
       "27     51\n",
       "28     23\n",
       "29     26\n",
       "30     44\n",
       "Name: dose_end, dtype: object"
      ]
     },
     "execution_count": 72,
     "metadata": {},
     "output_type": "execute_result"
    }
   ],
   "source": [
    "treatments_clean.dose_end.str.strip('u')"
   ]
  },
  {
   "cell_type": "code",
   "execution_count": 78,
   "metadata": {},
   "outputs": [],
   "source": [
    "# metric 2: pre-trial,post-trial mean insulin dosage change(IU - insulin unit)\n",
    "treatments_clean.dose_end = treatments_clean.dose_end.str.strip('u')"
   ]
  },
  {
   "cell_type": "code",
   "execution_count": 79,
   "metadata": {},
   "outputs": [
    {
     "data": {
      "text/plain": [
       "0     42u \n",
       "1     32u \n",
       "2     31u \n",
       "3     25u \n",
       "4     32u \n",
       "5     22u \n",
       "6     27u \n",
       "7     52u \n",
       "8     55u \n",
       "9     48u \n",
       "10    51u \n",
       "11    46u \n",
       "12    26u \n",
       "13    40u \n",
       "14    42u \n",
       "15    32u \n",
       "16    41u \n",
       "17    29u \n",
       "18    54u \n",
       "19    38u \n",
       "20    49u \n",
       "21    41u \n",
       "22    49u \n",
       "23    39u \n",
       "24    38u \n",
       "25    41u \n",
       "26    34u \n",
       "27    55u \n",
       "28    22u \n",
       "29    28u \n",
       "30    42u \n",
       "Name: dose_start, dtype: object"
      ]
     },
     "execution_count": 79,
     "metadata": {},
     "output_type": "execute_result"
    }
   ],
   "source": [
    "treatments_clean.dose_start = treatments_clean.dose_start.str.strip('u')\n",
    "treatments_clean.dose_start"
   ]
  },
  {
   "cell_type": "code",
   "execution_count": 85,
   "metadata": {},
   "outputs": [
    {
     "data": {
      "text/plain": [
       "<AxesSubplot:xlabel='treatment'>"
      ]
     },
     "execution_count": 85,
     "metadata": {},
     "output_type": "execute_result"
    },
    {
     "data": {
      "image/png": "[encoded data removed]",
      "text/plain": [
       "<Figure size 432x288 with 1 Axes>"
      ]
     },
     "metadata": {
      "needs_background": "light"
     },
     "output_type": "display_data"
    }
   ],
   "source": [
    "treatments_clean.dose_end = treatments_clean.dose_end.astype('float')\n",
    "treatments_clean.groupby('treatment').dose_end.mean().plot(kind= 'bar')"
   ]
  },
  {
   "cell_type": "code",
   "execution_count": 86,
   "metadata": {},
   "outputs": [
    {
     "data": {
      "text/html": [
       "<div>\n",
       "<style scoped>\n",
       "    .dataframe tbody tr th:only-of-type {\n",
       "        vertical-align: middle;\n",
       "    }\n",
       "\n",
       "    .dataframe tbody tr th {\n",
       "        vertical-align: top;\n",
       "    }\n",
       "\n",
       "    .dataframe thead th {\n",
       "        text-align: right;\n",
       "    }\n",
       "</style>\n",
       "<table border=\"1\" class=\"dataframe\">\n",
       "  <thead>\n",
       "    <tr style=\"text-align: right;\">\n",
       "      <th></th>\n",
       "      <th>hba1c_start</th>\n",
       "      <th>hba1c_end</th>\n",
       "      <th>hba1c_change</th>\n",
       "      <th>treatment</th>\n",
       "      <th>dose_start</th>\n",
       "      <th>dose_end</th>\n",
       "      <th>adverse_reaction</th>\n",
       "      <th>patient_id</th>\n",
       "    </tr>\n",
       "  </thead>\n",
       "  <tbody>\n",
       "    <tr>\n",
       "      <th>0</th>\n",
       "      <td>7.79</td>\n",
       "      <td>7.40</td>\n",
       "      <td>0.39</td>\n",
       "      <td>auralin</td>\n",
       "      <td>42u</td>\n",
       "      <td>51.0</td>\n",
       "      <td>throat irritation</td>\n",
       "      <td>451</td>\n",
       "    </tr>\n",
       "    <tr>\n",
       "      <th>1</th>\n",
       "      <td>7.63</td>\n",
       "      <td>7.32</td>\n",
       "      <td>0.31</td>\n",
       "      <td>auralin</td>\n",
       "      <td>32u</td>\n",
       "      <td>42.0</td>\n",
       "      <td>hypoglycemia</td>\n",
       "      <td>55</td>\n",
       "    </tr>\n",
       "    <tr>\n",
       "      <th>2</th>\n",
       "      <td>7.65</td>\n",
       "      <td>7.26</td>\n",
       "      <td>0.39</td>\n",
       "      <td>auralin</td>\n",
       "      <td>31u</td>\n",
       "      <td>45.0</td>\n",
       "      <td>headache</td>\n",
       "      <td>143</td>\n",
       "    </tr>\n",
       "    <tr>\n",
       "      <th>3</th>\n",
       "      <td>8.34</td>\n",
       "      <td>7.90</td>\n",
       "      <td>0.44</td>\n",
       "      <td>auralin</td>\n",
       "      <td>25u</td>\n",
       "      <td>31.0</td>\n",
       "      <td>hypoglycemia</td>\n",
       "      <td>460</td>\n",
       "    </tr>\n",
       "    <tr>\n",
       "      <th>4</th>\n",
       "      <td>7.64</td>\n",
       "      <td>7.23</td>\n",
       "      <td>0.41</td>\n",
       "      <td>auralin</td>\n",
       "      <td>32u</td>\n",
       "      <td>41.0</td>\n",
       "      <td>hypoglycemia</td>\n",
       "      <td>8</td>\n",
       "    </tr>\n",
       "  </tbody>\n",
       "</table>\n",
       "</div>"
      ],
      "text/plain": [
       "   hba1c_start  hba1c_end  hba1c_change treatment dose_start  dose_end  \\\n",
       "0         7.79       7.40          0.39   auralin       42u       51.0   \n",
       "1         7.63       7.32          0.31   auralin       32u       42.0   \n",
       "2         7.65       7.26          0.39   auralin       31u       45.0   \n",
       "3         8.34       7.90          0.44   auralin       25u       31.0   \n",
       "4         7.64       7.23          0.41   auralin       32u       41.0   \n",
       "\n",
       "    adverse_reaction  patient_id  \n",
       "0  throat irritation         451  \n",
       "1       hypoglycemia          55  \n",
       "2           headache         143  \n",
       "3       hypoglycemia         460  \n",
       "4       hypoglycemia           8  "
      ]
     },
     "execution_count": 86,
     "metadata": {},
     "output_type": "execute_result"
    }
   ],
   "source": [
    "# metric 3: pre-trial/ post trial mean hbA1c change (indicator for diabetes control, should be similar to current injectable insulin standard)\n",
    "treatments_clean.head()"
   ]
  },
  {
   "cell_type": "code",
   "execution_count": 87,
   "metadata": {},
   "outputs": [
    {
     "data": {
      "text/plain": [
       "<AxesSubplot:title={'center':'Post trial mean hbA1c change'}, xlabel='treatment'>"
      ]
     },
     "execution_count": 87,
     "metadata": {},
     "output_type": "execute_result"
    },
    {
     "data": {
      "image/png": "[encoded data removed]",
      "text/plain": [
       "<Figure size 432x288 with 1 Axes>"
      ]
     },
     "metadata": {
      "needs_background": "light"
     },
     "output_type": "display_data"
    }
   ],
   "source": [
    "# confidence interval for difference in mean hbA1c change between Novodra and Auralin drug as indicator of diabetes control in blood glucose level\n",
    "treatments_clean.groupby('treatment').hba1c_change.mean().plot(kind= 'bar',title = 'Post trial mean hbA1c change')"
   ]
  },
  {
   "cell_type": "code",
   "execution_count": 88,
   "metadata": {},
   "outputs": [
    {
     "data": {
      "text/plain": [
       "treatment\n",
       "auralin    0.359231\n",
       "novodra    0.420000\n",
       "Name: hba1c_change, dtype: float64"
      ]
     },
     "execution_count": 88,
     "metadata": {},
     "output_type": "execute_result"
    }
   ],
   "source": [
    "# significance of difference\n",
    "treatments_clean.groupby('treatment').hba1c_change.mean()"
   ]
  },
  {
   "cell_type": "code",
   "execution_count": 89,
   "metadata": {
    "tags": []
   },
   "outputs": [],
   "source": [
    "# noninferior metric of difference between 2 groups was predetermined as upper limit of CI <0.4, \n",
    "# so Auralin passed phase 2 trial, both are similarly effective\n",
    "import statsmodels.api as sm\n",
    "# n1 = 97\n",
    "# n2 = 206\n",
    "# mean_female = 261.75\n",
    "# mean_male = 239.6\n",
    "# sd_female = 64.9\n",
    "# sd_male = 42.65\n",
    "# sem_female = sd_female / np.sqrt(97)\n",
    "# sem_male = sd_male / np.sqrt(206)\n",
    "# mean_d = mean_female - mean_male\n",
    "# sem_d = (np.sqrt((n1-1)*se_female**2 + (n2-1)*se_male**2)/(n1+n2-2))*(np.sqrt(1/n1 + 1/n2))\n",
    "# lcb = mean_d - 1.96*sem_d  #lower limit of the CI\n",
    "# ucb = mean_d + 1.96*sem_d  #upper limit of the CI"
   ]
  },
  {
   "cell_type": "code",
   "execution_count": 90,
   "metadata": {},
   "outputs": [
    {
     "data": {
      "text/html": [
       "<div>\n",
       "<style scoped>\n",
       "    .dataframe tbody tr th:only-of-type {\n",
       "        vertical-align: middle;\n",
       "    }\n",
       "\n",
       "    .dataframe tbody tr th {\n",
       "        vertical-align: top;\n",
       "    }\n",
       "\n",
       "    .dataframe thead th {\n",
       "        text-align: right;\n",
       "    }\n",
       "</style>\n",
       "<table border=\"1\" class=\"dataframe\">\n",
       "  <thead>\n",
       "    <tr style=\"text-align: right;\">\n",
       "      <th></th>\n",
       "      <th>given_name</th>\n",
       "      <th>surname</th>\n",
       "      <th>auralin</th>\n",
       "      <th>novodra</th>\n",
       "      <th>hba1c_start</th>\n",
       "      <th>hba1c_end</th>\n",
       "      <th>hba1c_change</th>\n",
       "    </tr>\n",
       "  </thead>\n",
       "  <tbody>\n",
       "    <tr>\n",
       "      <th>0</th>\n",
       "      <td>veronika</td>\n",
       "      <td>jindrová</td>\n",
       "      <td>41u - 48u</td>\n",
       "      <td>-</td>\n",
       "      <td>7.63</td>\n",
       "      <td>7.20</td>\n",
       "      <td>NaN</td>\n",
       "    </tr>\n",
       "    <tr>\n",
       "      <th>1</th>\n",
       "      <td>elliot</td>\n",
       "      <td>richardson</td>\n",
       "      <td>-</td>\n",
       "      <td>40u - 45u</td>\n",
       "      <td>7.56</td>\n",
       "      <td>7.09</td>\n",
       "      <td>0.97</td>\n",
       "    </tr>\n",
       "    <tr>\n",
       "      <th>2</th>\n",
       "      <td>yukitaka</td>\n",
       "      <td>takenaka</td>\n",
       "      <td>-</td>\n",
       "      <td>39u - 36u</td>\n",
       "      <td>7.68</td>\n",
       "      <td>7.25</td>\n",
       "      <td>NaN</td>\n",
       "    </tr>\n",
       "    <tr>\n",
       "      <th>3</th>\n",
       "      <td>skye</td>\n",
       "      <td>gormanston</td>\n",
       "      <td>33u - 36u</td>\n",
       "      <td>-</td>\n",
       "      <td>7.97</td>\n",
       "      <td>7.62</td>\n",
       "      <td>0.35</td>\n",
       "    </tr>\n",
       "    <tr>\n",
       "      <th>4</th>\n",
       "      <td>alissa</td>\n",
       "      <td>montez</td>\n",
       "      <td>-</td>\n",
       "      <td>33u - 29u</td>\n",
       "      <td>7.78</td>\n",
       "      <td>7.46</td>\n",
       "      <td>0.32</td>\n",
       "    </tr>\n",
       "  </tbody>\n",
       "</table>\n",
       "</div>"
      ],
      "text/plain": [
       "  given_name     surname    auralin    novodra  hba1c_start  hba1c_end  \\\n",
       "0   veronika    jindrová  41u - 48u          -         7.63       7.20   \n",
       "1     elliot  richardson          -  40u - 45u         7.56       7.09   \n",
       "2   yukitaka    takenaka          -  39u - 36u         7.68       7.25   \n",
       "3       skye  gormanston  33u - 36u          -         7.97       7.62   \n",
       "4     alissa      montez          -  33u - 29u         7.78       7.46   \n",
       "\n",
       "   hba1c_change  \n",
       "0           NaN  \n",
       "1          0.97  \n",
       "2           NaN  \n",
       "3          0.35  \n",
       "4          0.32  "
      ]
     },
     "execution_count": 90,
     "metadata": {},
     "output_type": "execute_result"
    }
   ],
   "source": [
    "treatments.head()"
   ]
  },
  {
   "cell_type": "code",
   "execution_count": 91,
   "metadata": {},
   "outputs": [
    {
     "data": {
      "text/plain": [
       "<AxesSubplot:>"
      ]
     },
     "execution_count": 91,
     "metadata": {},
     "output_type": "execute_result"
    },
    {
     "data": {
      "image/png": "[encoded data removed]",
      "text/plain": [
       "<Figure size 432x288 with 1 Axes>"
      ]
     },
     "metadata": {
      "needs_background": "light"
     },
     "output_type": "display_data"
    }
   ],
   "source": [
    "# check dist plot\n",
    "treatments.hba1c_change.hist()"
   ]
  },
  {
   "cell_type": "code",
   "execution_count": 92,
   "metadata": {},
   "outputs": [
    {
     "data": {
      "text/plain": [
       "<AxesSubplot:ylabel='Frequency'>"
      ]
     },
     "execution_count": 92,
     "metadata": {},
     "output_type": "execute_result"
    },
    {
     "data": {
      "image/png": "[encoded data removed]",
      "text/plain": [
       "<Figure size 432x288 with 1 Axes>"
      ]
     },
     "metadata": {
      "needs_background": "light"
     },
     "output_type": "display_data"
    }
   ],
   "source": [
    "treatments.hba1c_change.plot(kind = 'hist')"
   ]
  },
  {
   "cell_type": "code",
   "execution_count": 101,
   "metadata": {},
   "outputs": [
    {
     "data": {
      "text/plain": [
       "<AxesSubplot:>"
      ]
     },
     "execution_count": 101,
     "metadata": {},
     "output_type": "execute_result"
    },
    {
     "data": {
      "image/png": "[encoded data removed]",
      "text/plain": [
       "<Figure size 576x576 with 1 Axes>"
      ]
     },
     "metadata": {
      "needs_background": "light"
     },
     "output_type": "display_data"
    }
   ],
   "source": [
    "treatments.hba1c_change.value_counts().plot(kind = 'bar',figsize = (8,8))"
   ]
  },
  {
   "cell_type": "code",
   "execution_count": 94,
   "metadata": {},
   "outputs": [
    {
     "data": {
      "text/plain": [
       "array([[<AxesSubplot:xlabel='patient_id', ylabel='patient_id'>,\n",
       "        <AxesSubplot:xlabel='zip_code', ylabel='patient_id'>,\n",
       "        <AxesSubplot:xlabel='weight', ylabel='patient_id'>,\n",
       "        <AxesSubplot:xlabel='height', ylabel='patient_id'>,\n",
       "        <AxesSubplot:xlabel='bmi', ylabel='patient_id'>],\n",
       "       [<AxesSubplot:xlabel='patient_id', ylabel='zip_code'>,\n",
       "        <AxesSubplot:xlabel='zip_code', ylabel='zip_code'>,\n",
       "        <AxesSubplot:xlabel='weight', ylabel='zip_code'>,\n",
       "        <AxesSubplot:xlabel='height', ylabel='zip_code'>,\n",
       "        <AxesSubplot:xlabel='bmi', ylabel='zip_code'>],\n",
       "       [<AxesSubplot:xlabel='patient_id', ylabel='weight'>,\n",
       "        <AxesSubplot:xlabel='zip_code', ylabel='weight'>,\n",
       "        <AxesSubplot:xlabel='weight', ylabel='weight'>,\n",
       "        <AxesSubplot:xlabel='height', ylabel='weight'>,\n",
       "        <AxesSubplot:xlabel='bmi', ylabel='weight'>],\n",
       "       [<AxesSubplot:xlabel='patient_id', ylabel='height'>,\n",
       "        <AxesSubplot:xlabel='zip_code', ylabel='height'>,\n",
       "        <AxesSubplot:xlabel='weight', ylabel='height'>,\n",
       "        <AxesSubplot:xlabel='height', ylabel='height'>,\n",
       "        <AxesSubplot:xlabel='bmi', ylabel='height'>],\n",
       "       [<AxesSubplot:xlabel='patient_id', ylabel='bmi'>,\n",
       "        <AxesSubplot:xlabel='zip_code', ylabel='bmi'>,\n",
       "        <AxesSubplot:xlabel='weight', ylabel='bmi'>,\n",
       "        <AxesSubplot:xlabel='height', ylabel='bmi'>,\n",
       "        <AxesSubplot:xlabel='bmi', ylabel='bmi'>]], dtype=object)"
      ]
     },
     "execution_count": 94,
     "metadata": {},
     "output_type": "execute_result"
    },
    {
     "data": {
      "image/png": "[encoded data removed]",
      "text/plain": [
       "<Figure size 432x288 with 25 Axes>"
      ]
     },
     "metadata": {
      "needs_background": "light"
     },
     "output_type": "display_data"
    }
   ],
   "source": [
    "# scatter plot - hist for each variable\n",
    "pd.plotting.scatter_matrix(patients)"
   ]
  },
  {
   "cell_type": "code",
   "execution_count": 95,
   "metadata": {},
   "outputs": [
    {
     "data": {
      "text/plain": [
       "<AxesSubplot:xlabel='hba1c_change', ylabel='hba1c_change'>"
      ]
     },
     "execution_count": 95,
     "metadata": {},
     "output_type": "execute_result"
    },
    {
     "data": {
      "image/png": "[encoded data removed]",
      "text/plain": [
       "<Figure size 432x288 with 1 Axes>"
      ]
     },
     "metadata": {
      "needs_background": "light"
     },
     "output_type": "display_data"
    }
   ],
   "source": [
    "# scatter plot - hist for each variable\n",
    "treatments.plot(x = 'hba1c_change',y = 'hba1c_change',kind= 'scatter')"
   ]
  },
  {
   "cell_type": "code",
   "execution_count": 96,
   "metadata": {},
   "outputs": [
    {
     "data": {
      "text/plain": [
       "<AxesSubplot:>"
      ]
     },
     "execution_count": 96,
     "metadata": {},
     "output_type": "execute_result"
    },
    {
     "data": {
      "image/png": "[encoded data removed]",
      "text/plain": [
       "<Figure size 432x288 with 1 Axes>"
      ]
     },
     "metadata": {
      "needs_background": "light"
     },
     "output_type": "display_data"
    }
   ],
   "source": [
    "treatments['hba1c_change'].plot(kind = 'box')"
   ]
  },
  {
   "cell_type": "code",
   "execution_count": 98,
   "metadata": {},
   "outputs": [
    {
     "data": {
      "text/html": [
       "<div>\n",
       "<style scoped>\n",
       "    .dataframe tbody tr th:only-of-type {\n",
       "        vertical-align: middle;\n",
       "    }\n",
       "\n",
       "    .dataframe tbody tr th {\n",
       "        vertical-align: top;\n",
       "    }\n",
       "\n",
       "    .dataframe thead th {\n",
       "        text-align: right;\n",
       "    }\n",
       "</style>\n",
       "<table border=\"1\" class=\"dataframe\">\n",
       "  <thead>\n",
       "    <tr style=\"text-align: right;\">\n",
       "      <th></th>\n",
       "      <th>hba1c_start</th>\n",
       "      <th>hba1c_end</th>\n",
       "      <th>hba1c_change</th>\n",
       "      <th>treatment</th>\n",
       "      <th>dose_start</th>\n",
       "      <th>dose_end</th>\n",
       "      <th>adverse_reaction</th>\n",
       "      <th>patient_id</th>\n",
       "    </tr>\n",
       "  </thead>\n",
       "  <tbody>\n",
       "    <tr>\n",
       "      <th>1</th>\n",
       "      <td>7.63</td>\n",
       "      <td>7.32</td>\n",
       "      <td>0.31</td>\n",
       "      <td>auralin</td>\n",
       "      <td>32u</td>\n",
       "      <td>42.0</td>\n",
       "      <td>hypoglycemia</td>\n",
       "      <td>55</td>\n",
       "    </tr>\n",
       "    <tr>\n",
       "      <th>3</th>\n",
       "      <td>8.34</td>\n",
       "      <td>7.90</td>\n",
       "      <td>0.44</td>\n",
       "      <td>auralin</td>\n",
       "      <td>25u</td>\n",
       "      <td>31.0</td>\n",
       "      <td>hypoglycemia</td>\n",
       "      <td>460</td>\n",
       "    </tr>\n",
       "    <tr>\n",
       "      <th>4</th>\n",
       "      <td>7.64</td>\n",
       "      <td>7.23</td>\n",
       "      <td>0.41</td>\n",
       "      <td>auralin</td>\n",
       "      <td>32u</td>\n",
       "      <td>41.0</td>\n",
       "      <td>hypoglycemia</td>\n",
       "      <td>8</td>\n",
       "    </tr>\n",
       "    <tr>\n",
       "      <th>5</th>\n",
       "      <td>8.35</td>\n",
       "      <td>7.97</td>\n",
       "      <td>0.38</td>\n",
       "      <td>auralin</td>\n",
       "      <td>22u</td>\n",
       "      <td>30.0</td>\n",
       "      <td>hypoglycemia</td>\n",
       "      <td>209</td>\n",
       "    </tr>\n",
       "    <tr>\n",
       "      <th>6</th>\n",
       "      <td>8.98</td>\n",
       "      <td>8.64</td>\n",
       "      <td>0.34</td>\n",
       "      <td>auralin</td>\n",
       "      <td>27u</td>\n",
       "      <td>33.0</td>\n",
       "      <td>hypoglycemia</td>\n",
       "      <td>360</td>\n",
       "    </tr>\n",
       "    <tr>\n",
       "      <th>7</th>\n",
       "      <td>7.64</td>\n",
       "      <td>7.31</td>\n",
       "      <td>0.33</td>\n",
       "      <td>auralin</td>\n",
       "      <td>52u</td>\n",
       "      <td>61.0</td>\n",
       "      <td>hypoglycemia</td>\n",
       "      <td>14</td>\n",
       "    </tr>\n",
       "    <tr>\n",
       "      <th>10</th>\n",
       "      <td>7.69</td>\n",
       "      <td>7.30</td>\n",
       "      <td>0.39</td>\n",
       "      <td>auralin</td>\n",
       "      <td>51u</td>\n",
       "      <td>62.0</td>\n",
       "      <td>hypoglycemia</td>\n",
       "      <td>277</td>\n",
       "    </tr>\n",
       "    <tr>\n",
       "      <th>12</th>\n",
       "      <td>7.51</td>\n",
       "      <td>7.17</td>\n",
       "      <td>0.34</td>\n",
       "      <td>auralin</td>\n",
       "      <td>26u</td>\n",
       "      <td>34.0</td>\n",
       "      <td>hypoglycemia</td>\n",
       "      <td>52</td>\n",
       "    </tr>\n",
       "    <tr>\n",
       "      <th>13</th>\n",
       "      <td>7.56</td>\n",
       "      <td>7.09</td>\n",
       "      <td>0.47</td>\n",
       "      <td>novodra</td>\n",
       "      <td>40u</td>\n",
       "      <td>45.0</td>\n",
       "      <td>hypoglycemia</td>\n",
       "      <td>94</td>\n",
       "    </tr>\n",
       "    <tr>\n",
       "      <th>14</th>\n",
       "      <td>7.56</td>\n",
       "      <td>7.18</td>\n",
       "      <td>0.38</td>\n",
       "      <td>novodra</td>\n",
       "      <td>42u</td>\n",
       "      <td>44.0</td>\n",
       "      <td>hypoglycemia</td>\n",
       "      <td>490</td>\n",
       "    </tr>\n",
       "    <tr>\n",
       "      <th>15</th>\n",
       "      <td>7.52</td>\n",
       "      <td>7.01</td>\n",
       "      <td>0.51</td>\n",
       "      <td>novodra</td>\n",
       "      <td>32u</td>\n",
       "      <td>27.0</td>\n",
       "      <td>hypoglycemia</td>\n",
       "      <td>254</td>\n",
       "    </tr>\n",
       "    <tr>\n",
       "      <th>16</th>\n",
       "      <td>7.89</td>\n",
       "      <td>7.46</td>\n",
       "      <td>0.43</td>\n",
       "      <td>novodra</td>\n",
       "      <td>41u</td>\n",
       "      <td>39.0</td>\n",
       "      <td>hypoglycemia</td>\n",
       "      <td>38</td>\n",
       "    </tr>\n",
       "    <tr>\n",
       "      <th>17</th>\n",
       "      <td>7.95</td>\n",
       "      <td>7.55</td>\n",
       "      <td>0.40</td>\n",
       "      <td>novodra</td>\n",
       "      <td>29u</td>\n",
       "      <td>32.0</td>\n",
       "      <td>hypoglycemia</td>\n",
       "      <td>354</td>\n",
       "    </tr>\n",
       "    <tr>\n",
       "      <th>18</th>\n",
       "      <td>7.98</td>\n",
       "      <td>7.53</td>\n",
       "      <td>0.45</td>\n",
       "      <td>novodra</td>\n",
       "      <td>54u</td>\n",
       "      <td>50.0</td>\n",
       "      <td>hypoglycemia</td>\n",
       "      <td>12</td>\n",
       "    </tr>\n",
       "    <tr>\n",
       "      <th>20</th>\n",
       "      <td>9.13</td>\n",
       "      <td>8.72</td>\n",
       "      <td>0.41</td>\n",
       "      <td>novodra</td>\n",
       "      <td>49u</td>\n",
       "      <td>46.0</td>\n",
       "      <td>hypoglycemia</td>\n",
       "      <td>178</td>\n",
       "    </tr>\n",
       "    <tr>\n",
       "      <th>21</th>\n",
       "      <td>7.70</td>\n",
       "      <td>7.40</td>\n",
       "      <td>0.30</td>\n",
       "      <td>novodra</td>\n",
       "      <td>41u</td>\n",
       "      <td>38.0</td>\n",
       "      <td>hypoglycemia</td>\n",
       "      <td>128</td>\n",
       "    </tr>\n",
       "    <tr>\n",
       "      <th>22</th>\n",
       "      <td>9.63</td>\n",
       "      <td>9.21</td>\n",
       "      <td>0.42</td>\n",
       "      <td>novodra</td>\n",
       "      <td>49u</td>\n",
       "      <td>50.0</td>\n",
       "      <td>hypoglycemia</td>\n",
       "      <td>249</td>\n",
       "    </tr>\n",
       "    <tr>\n",
       "      <th>29</th>\n",
       "      <td>7.96</td>\n",
       "      <td>7.51</td>\n",
       "      <td>0.45</td>\n",
       "      <td>novodra</td>\n",
       "      <td>28u</td>\n",
       "      <td>26.0</td>\n",
       "      <td>hypoglycemia</td>\n",
       "      <td>25</td>\n",
       "    </tr>\n",
       "  </tbody>\n",
       "</table>\n",
       "</div>"
      ],
      "text/plain": [
       "    hba1c_start  hba1c_end  hba1c_change treatment dose_start  dose_end  \\\n",
       "1          7.63       7.32          0.31   auralin       32u       42.0   \n",
       "3          8.34       7.90          0.44   auralin       25u       31.0   \n",
       "4          7.64       7.23          0.41   auralin       32u       41.0   \n",
       "5          8.35       7.97          0.38   auralin       22u       30.0   \n",
       "6          8.98       8.64          0.34   auralin       27u       33.0   \n",
       "7          7.64       7.31          0.33   auralin       52u       61.0   \n",
       "10         7.69       7.30          0.39   auralin       51u       62.0   \n",
       "12         7.51       7.17          0.34   auralin       26u       34.0   \n",
       "13         7.56       7.09          0.47   novodra       40u       45.0   \n",
       "14         7.56       7.18          0.38   novodra       42u       44.0   \n",
       "15         7.52       7.01          0.51   novodra       32u       27.0   \n",
       "16         7.89       7.46          0.43   novodra       41u       39.0   \n",
       "17         7.95       7.55          0.40   novodra       29u       32.0   \n",
       "18         7.98       7.53          0.45   novodra       54u       50.0   \n",
       "20         9.13       8.72          0.41   novodra       49u       46.0   \n",
       "21         7.70       7.40          0.30   novodra       41u       38.0   \n",
       "22         9.63       9.21          0.42   novodra       49u       50.0   \n",
       "29         7.96       7.51          0.45   novodra       28u       26.0   \n",
       "\n",
       "   adverse_reaction  patient_id  \n",
       "1      hypoglycemia          55  \n",
       "3      hypoglycemia         460  \n",
       "4      hypoglycemia           8  \n",
       "5      hypoglycemia         209  \n",
       "6      hypoglycemia         360  \n",
       "7      hypoglycemia          14  \n",
       "10     hypoglycemia         277  \n",
       "12     hypoglycemia          52  \n",
       "13     hypoglycemia          94  \n",
       "14     hypoglycemia         490  \n",
       "15     hypoglycemia         254  \n",
       "16     hypoglycemia          38  \n",
       "17     hypoglycemia         354  \n",
       "18     hypoglycemia          12  \n",
       "20     hypoglycemia         178  \n",
       "21     hypoglycemia         128  \n",
       "22     hypoglycemia         249  \n",
       "29     hypoglycemia          25  "
      ]
     },
     "execution_count": 98,
     "metadata": {},
     "output_type": "execute_result"
    }
   ],
   "source": [
    "# draw conclusion\n",
    "treatments_clean[treatments_clean['adverse_reaction']=='hypoglycemia']"
   ]
  },
  {
   "cell_type": "code",
   "execution_count": 113,
   "metadata": {},
   "outputs": [
    {
     "data": {
      "image/png": "[encoded data removed]",
      "text/plain": [
       "<Figure size 576x432 with 1 Axes>"
      ]
     },
     "metadata": {
      "needs_background": "light"
     },
     "output_type": "display_data"
    }
   ],
   "source": [
    "# communicate findings\n",
    "fig, ax = plt.subplots(figsize =(8,6))\n",
    "ax.hist(treatments_clean[treatments_clean['treatment']=='auralin'].hba1c_change, alpha=0.5, label='auralin')\n",
    "ax.hist(treatments_clean[treatments_clean['treatment']=='novodra'].hba1c_change, alpha=0.5, label='novodra')\n",
    "ax.set_title('Distributions of hba1c_change')\n",
    "ax.set_xlabel('treatment')\n",
    "ax.set_ylabel('hba1c change')\n",
    "ax.legend(loc='upper right')\n",
    "plt.show();"
   ]
  },
  {
   "cell_type": "code",
   "execution_count": 111,
   "metadata": {},
   "outputs": [
    {
     "ename": "NameError",
     "evalue": "name 'treatment' is not defined",
     "output_type": "error",
     "traceback": [
      "\u001b[1;31m---------------------------------------------------------------------------\u001b[0m",
      "\u001b[1;31mNameError\u001b[0m                                 Traceback (most recent call last)",
      "\u001b[1;32m<ipython-input-111-974d4c15508f>\u001b[0m in \u001b[0;36m<module>\u001b[1;34m\u001b[0m\n\u001b[1;32m----> 1\u001b[1;33m \u001b[0mtreatments_clean\u001b[0m\u001b[1;33m[\u001b[0m\u001b[0mtreatment\u001b[0m\u001b[1;33m[\u001b[0m\u001b[1;34m'treatment'\u001b[0m\u001b[1;33m]\u001b[0m\u001b[1;33m==\u001b[0m\u001b[1;34m'auralin'\u001b[0m\u001b[1;33m]\u001b[0m\u001b[1;33m\u001b[0m\u001b[1;33m\u001b[0m\u001b[0m\n\u001b[0m",
      "\u001b[1;31mNameError\u001b[0m: name 'treatment' is not defined"
     ]
    }
   ],
   "source": []
  },
  {
   "cell_type": "code",
   "execution_count": null,
   "metadata": {},
   "outputs": [],
   "source": []
  }
 ],
 "metadata": {
  "kernelspec": {
   "display_name": "Python 3 (ipykernel)",
   "language": "python",
   "name": "python3"
  },
  "language_info": {
   "codemirror_mode": {
    "name": "ipython",
    "version": 3
   },
   "file_extension": ".py",
   "mimetype": "text/x-python",
   "name": "python",
   "nbconvert_exporter": "python",
   "pygments_lexer": "ipython3",
   "version": "3.8.5"
  }
 },
 "nbformat": 4,
 "nbformat_minor": 4
}
